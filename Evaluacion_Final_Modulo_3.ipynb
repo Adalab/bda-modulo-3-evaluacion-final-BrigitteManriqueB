{
 "cells": [
  {
   "cell_type": "markdown",
   "metadata": {
    "vscode": {
     "languageId": "plaintext"
    }
   },
   "source": [
    "# Ejercicio Final Módulo 3"
   ]
  },
  {
   "cell_type": "markdown",
   "metadata": {},
   "source": [
    "##### === Brigitte J. Manrique Báez ==="
   ]
  },
  {
   "cell_type": "markdown",
   "metadata": {},
   "source": [
    "Importar librerías"
   ]
  },
  {
   "cell_type": "code",
   "execution_count": 46,
   "metadata": {},
   "outputs": [],
   "source": [
    "# Tratamiento de datos\n",
    "# -----------------------------------------------------------------------\n",
    "import pandas as pd\n",
    "import numpy as np\n",
    "\n",
    "# Imputación de nulos usando métodos avanzados estadísticos\n",
    "# -----------------------------------------------------------------------\n",
    "from sklearn.impute import SimpleImputer\n",
    "from sklearn.experimental import enable_iterative_imputer\n",
    "from sklearn.impute import IterativeImputer\n",
    "from sklearn.impute import KNNImputer\n",
    "\n",
    "# Librerías de visualización\n",
    "# -----------------------------------------------------------------------\n",
    "import seaborn as sns\n",
    "import matplotlib.pyplot as plt\n",
    "# Configuración\n",
    "# -----------------------------------------------------------------------\n",
    "pd.set_option('display.max_columns', None) # para poder visualizar todas las columnas de los DataFrames"
   ]
  },
  {
   "cell_type": "code",
   "execution_count": 47,
   "metadata": {},
   "outputs": [
    {
     "data": {
      "text/html": [
       "<div>\n",
       "<style scoped>\n",
       "    .dataframe tbody tr th:only-of-type {\n",
       "        vertical-align: middle;\n",
       "    }\n",
       "\n",
       "    .dataframe tbody tr th {\n",
       "        vertical-align: top;\n",
       "    }\n",
       "\n",
       "    .dataframe thead th {\n",
       "        text-align: right;\n",
       "    }\n",
       "</style>\n",
       "<table border=\"1\" class=\"dataframe\">\n",
       "  <thead>\n",
       "    <tr style=\"text-align: right;\">\n",
       "      <th></th>\n",
       "      <th>Loyalty Number</th>\n",
       "      <th>Year</th>\n",
       "      <th>Month</th>\n",
       "      <th>Flights Booked</th>\n",
       "      <th>Flights with Companions</th>\n",
       "      <th>Total Flights</th>\n",
       "      <th>Distance</th>\n",
       "      <th>Points Accumulated</th>\n",
       "      <th>Points Redeemed</th>\n",
       "      <th>Dollar Cost Points Redeemed</th>\n",
       "    </tr>\n",
       "  </thead>\n",
       "  <tbody>\n",
       "    <tr>\n",
       "      <th>0</th>\n",
       "      <td>100018</td>\n",
       "      <td>2017</td>\n",
       "      <td>1</td>\n",
       "      <td>3</td>\n",
       "      <td>0</td>\n",
       "      <td>3</td>\n",
       "      <td>1521</td>\n",
       "      <td>152.0</td>\n",
       "      <td>0</td>\n",
       "      <td>0</td>\n",
       "    </tr>\n",
       "    <tr>\n",
       "      <th>1</th>\n",
       "      <td>100102</td>\n",
       "      <td>2017</td>\n",
       "      <td>1</td>\n",
       "      <td>10</td>\n",
       "      <td>4</td>\n",
       "      <td>14</td>\n",
       "      <td>2030</td>\n",
       "      <td>203.0</td>\n",
       "      <td>0</td>\n",
       "      <td>0</td>\n",
       "    </tr>\n",
       "    <tr>\n",
       "      <th>2</th>\n",
       "      <td>100140</td>\n",
       "      <td>2017</td>\n",
       "      <td>1</td>\n",
       "      <td>6</td>\n",
       "      <td>0</td>\n",
       "      <td>6</td>\n",
       "      <td>1200</td>\n",
       "      <td>120.0</td>\n",
       "      <td>0</td>\n",
       "      <td>0</td>\n",
       "    </tr>\n",
       "  </tbody>\n",
       "</table>\n",
       "</div>"
      ],
      "text/plain": [
       "   Loyalty Number  Year  Month  Flights Booked  Flights with Companions  \\\n",
       "0          100018  2017      1               3                        0   \n",
       "1          100102  2017      1              10                        4   \n",
       "2          100140  2017      1               6                        0   \n",
       "\n",
       "   Total Flights  Distance  Points Accumulated  Points Redeemed  \\\n",
       "0              3      1521               152.0                0   \n",
       "1             14      2030               203.0                0   \n",
       "2              6      1200               120.0                0   \n",
       "\n",
       "   Dollar Cost Points Redeemed  \n",
       "0                            0  \n",
       "1                            0  \n",
       "2                            0  "
      ]
     },
     "execution_count": 47,
     "metadata": {},
     "output_type": "execute_result"
    }
   ],
   "source": [
    "# Carga y Lectura de archivos\n",
    "# 1. Archivo Customer Flight Activity\n",
    "df_vuelos = pd.read_csv('Customer Flight Activity.csv')\n",
    "df_vuelos.head(3)"
   ]
  },
  {
   "cell_type": "code",
   "execution_count": 48,
   "metadata": {},
   "outputs": [
    {
     "data": {
      "text/html": [
       "<div>\n",
       "<style scoped>\n",
       "    .dataframe tbody tr th:only-of-type {\n",
       "        vertical-align: middle;\n",
       "    }\n",
       "\n",
       "    .dataframe tbody tr th {\n",
       "        vertical-align: top;\n",
       "    }\n",
       "\n",
       "    .dataframe thead th {\n",
       "        text-align: right;\n",
       "    }\n",
       "</style>\n",
       "<table border=\"1\" class=\"dataframe\">\n",
       "  <thead>\n",
       "    <tr style=\"text-align: right;\">\n",
       "      <th></th>\n",
       "      <th>Loyalty Number</th>\n",
       "      <th>Country</th>\n",
       "      <th>Province</th>\n",
       "      <th>City</th>\n",
       "      <th>Postal Code</th>\n",
       "      <th>Gender</th>\n",
       "      <th>Education</th>\n",
       "      <th>Salary</th>\n",
       "      <th>Marital Status</th>\n",
       "      <th>Loyalty Card</th>\n",
       "      <th>CLV</th>\n",
       "      <th>Enrollment Type</th>\n",
       "      <th>Enrollment Year</th>\n",
       "      <th>Enrollment Month</th>\n",
       "      <th>Cancellation Year</th>\n",
       "      <th>Cancellation Month</th>\n",
       "    </tr>\n",
       "  </thead>\n",
       "  <tbody>\n",
       "    <tr>\n",
       "      <th>0</th>\n",
       "      <td>480934</td>\n",
       "      <td>Canada</td>\n",
       "      <td>Ontario</td>\n",
       "      <td>Toronto</td>\n",
       "      <td>M2Z 4K1</td>\n",
       "      <td>Female</td>\n",
       "      <td>Bachelor</td>\n",
       "      <td>83236.0</td>\n",
       "      <td>Married</td>\n",
       "      <td>Star</td>\n",
       "      <td>3839.14</td>\n",
       "      <td>Standard</td>\n",
       "      <td>2016</td>\n",
       "      <td>2</td>\n",
       "      <td>NaN</td>\n",
       "      <td>NaN</td>\n",
       "    </tr>\n",
       "    <tr>\n",
       "      <th>1</th>\n",
       "      <td>549612</td>\n",
       "      <td>Canada</td>\n",
       "      <td>Alberta</td>\n",
       "      <td>Edmonton</td>\n",
       "      <td>T3G 6Y6</td>\n",
       "      <td>Male</td>\n",
       "      <td>College</td>\n",
       "      <td>NaN</td>\n",
       "      <td>Divorced</td>\n",
       "      <td>Star</td>\n",
       "      <td>3839.61</td>\n",
       "      <td>Standard</td>\n",
       "      <td>2016</td>\n",
       "      <td>3</td>\n",
       "      <td>NaN</td>\n",
       "      <td>NaN</td>\n",
       "    </tr>\n",
       "    <tr>\n",
       "      <th>2</th>\n",
       "      <td>429460</td>\n",
       "      <td>Canada</td>\n",
       "      <td>British Columbia</td>\n",
       "      <td>Vancouver</td>\n",
       "      <td>V6E 3D9</td>\n",
       "      <td>Male</td>\n",
       "      <td>College</td>\n",
       "      <td>NaN</td>\n",
       "      <td>Single</td>\n",
       "      <td>Star</td>\n",
       "      <td>3839.75</td>\n",
       "      <td>Standard</td>\n",
       "      <td>2014</td>\n",
       "      <td>7</td>\n",
       "      <td>2018.0</td>\n",
       "      <td>1.0</td>\n",
       "    </tr>\n",
       "  </tbody>\n",
       "</table>\n",
       "</div>"
      ],
      "text/plain": [
       "   Loyalty Number Country          Province       City Postal Code  Gender  \\\n",
       "0          480934  Canada           Ontario    Toronto     M2Z 4K1  Female   \n",
       "1          549612  Canada           Alberta   Edmonton     T3G 6Y6    Male   \n",
       "2          429460  Canada  British Columbia  Vancouver     V6E 3D9    Male   \n",
       "\n",
       "  Education   Salary Marital Status Loyalty Card      CLV Enrollment Type  \\\n",
       "0  Bachelor  83236.0        Married         Star  3839.14        Standard   \n",
       "1   College      NaN       Divorced         Star  3839.61        Standard   \n",
       "2   College      NaN         Single         Star  3839.75        Standard   \n",
       "\n",
       "   Enrollment Year  Enrollment Month  Cancellation Year  Cancellation Month  \n",
       "0             2016                 2                NaN                 NaN  \n",
       "1             2016                 3                NaN                 NaN  \n",
       "2             2014                 7             2018.0                 1.0  "
      ]
     },
     "execution_count": 48,
     "metadata": {},
     "output_type": "execute_result"
    }
   ],
   "source": [
    "# Carga y Lectura de archivos\n",
    "# 2. bda-modulo-3-evaluacion-final-BrigitteManriqueB/Customer Loyalty History.csv\n",
    "df_fidelidad_marca = pd.read_csv('Customer Loyalty History.csv')\n",
    "df_fidelidad_marca.head(3)"
   ]
  },
  {
   "cell_type": "markdown",
   "metadata": {},
   "source": [
    "### Fase 1: Exploración y Limpieza"
   ]
  },
  {
   "cell_type": "markdown",
   "metadata": {},
   "source": [
    "#### Exploración Inicial\n"
   ]
  },
  {
   "cell_type": "markdown",
   "metadata": {
    "vscode": {
     "languageId": "plaintext"
    }
   },
   "source": [
    "- Realiza una exploración inicial de los datos para identificar posibles problemas, como valores nulos, atípicos o datos faltantes en las columnas relevantes.\n",
    "- Utiliza funciones de Pandas para obtener información sobre la estructura de los datos, la presencia de valores nulos y estadísticas básicas de las columnas involucradas.\n",
    "- Une los dos conjuntos de datos de la forma más eficiente"
   ]
  },
  {
   "cell_type": "markdown",
   "metadata": {},
   "source": [
    "**Exploración inicial de los datos usando una función**"
   ]
  },
  {
   "cell_type": "code",
   "execution_count": 49,
   "metadata": {},
   "outputs": [
    {
     "name": "stdout",
     "output_type": "stream",
     "text": [
      "*****************************\n",
      "Tamaño del dataset:\n",
      "El Dataframe vuelos tiene un total de 405624 Filas, y 10 Columnas\n",
      "El Dataframe didelidad de marca tiene un total de 16737 Filas, y 16 Columnas\n",
      "\n",
      "*****************************\n",
      "\n",
      "Primeras 5 filas df_vuelos:\n"
     ]
    },
    {
     "data": {
      "text/html": [
       "<div>\n",
       "<style scoped>\n",
       "    .dataframe tbody tr th:only-of-type {\n",
       "        vertical-align: middle;\n",
       "    }\n",
       "\n",
       "    .dataframe tbody tr th {\n",
       "        vertical-align: top;\n",
       "    }\n",
       "\n",
       "    .dataframe thead th {\n",
       "        text-align: right;\n",
       "    }\n",
       "</style>\n",
       "<table border=\"1\" class=\"dataframe\">\n",
       "  <thead>\n",
       "    <tr style=\"text-align: right;\">\n",
       "      <th></th>\n",
       "      <th>Loyalty Number</th>\n",
       "      <th>Year</th>\n",
       "      <th>Month</th>\n",
       "      <th>Flights Booked</th>\n",
       "      <th>Flights with Companions</th>\n",
       "      <th>Total Flights</th>\n",
       "      <th>Distance</th>\n",
       "      <th>Points Accumulated</th>\n",
       "      <th>Points Redeemed</th>\n",
       "      <th>Dollar Cost Points Redeemed</th>\n",
       "    </tr>\n",
       "  </thead>\n",
       "  <tbody>\n",
       "    <tr>\n",
       "      <th>0</th>\n",
       "      <td>100018</td>\n",
       "      <td>2017</td>\n",
       "      <td>1</td>\n",
       "      <td>3</td>\n",
       "      <td>0</td>\n",
       "      <td>3</td>\n",
       "      <td>1521</td>\n",
       "      <td>152.0</td>\n",
       "      <td>0</td>\n",
       "      <td>0</td>\n",
       "    </tr>\n",
       "    <tr>\n",
       "      <th>1</th>\n",
       "      <td>100102</td>\n",
       "      <td>2017</td>\n",
       "      <td>1</td>\n",
       "      <td>10</td>\n",
       "      <td>4</td>\n",
       "      <td>14</td>\n",
       "      <td>2030</td>\n",
       "      <td>203.0</td>\n",
       "      <td>0</td>\n",
       "      <td>0</td>\n",
       "    </tr>\n",
       "    <tr>\n",
       "      <th>2</th>\n",
       "      <td>100140</td>\n",
       "      <td>2017</td>\n",
       "      <td>1</td>\n",
       "      <td>6</td>\n",
       "      <td>0</td>\n",
       "      <td>6</td>\n",
       "      <td>1200</td>\n",
       "      <td>120.0</td>\n",
       "      <td>0</td>\n",
       "      <td>0</td>\n",
       "    </tr>\n",
       "    <tr>\n",
       "      <th>3</th>\n",
       "      <td>100214</td>\n",
       "      <td>2017</td>\n",
       "      <td>1</td>\n",
       "      <td>0</td>\n",
       "      <td>0</td>\n",
       "      <td>0</td>\n",
       "      <td>0</td>\n",
       "      <td>0.0</td>\n",
       "      <td>0</td>\n",
       "      <td>0</td>\n",
       "    </tr>\n",
       "    <tr>\n",
       "      <th>4</th>\n",
       "      <td>100272</td>\n",
       "      <td>2017</td>\n",
       "      <td>1</td>\n",
       "      <td>0</td>\n",
       "      <td>0</td>\n",
       "      <td>0</td>\n",
       "      <td>0</td>\n",
       "      <td>0.0</td>\n",
       "      <td>0</td>\n",
       "      <td>0</td>\n",
       "    </tr>\n",
       "  </tbody>\n",
       "</table>\n",
       "</div>"
      ],
      "text/plain": [
       "   Loyalty Number  Year  Month  Flights Booked  Flights with Companions  \\\n",
       "0          100018  2017      1               3                        0   \n",
       "1          100102  2017      1              10                        4   \n",
       "2          100140  2017      1               6                        0   \n",
       "3          100214  2017      1               0                        0   \n",
       "4          100272  2017      1               0                        0   \n",
       "\n",
       "   Total Flights  Distance  Points Accumulated  Points Redeemed  \\\n",
       "0              3      1521               152.0                0   \n",
       "1             14      2030               203.0                0   \n",
       "2              6      1200               120.0                0   \n",
       "3              0         0                 0.0                0   \n",
       "4              0         0                 0.0                0   \n",
       "\n",
       "   Dollar Cost Points Redeemed  \n",
       "0                            0  \n",
       "1                            0  \n",
       "2                            0  \n",
       "3                            0  \n",
       "4                            0  "
      ]
     },
     "metadata": {},
     "output_type": "display_data"
    },
    {
     "name": "stdout",
     "output_type": "stream",
     "text": [
      "\n",
      "Primeras 5 filas df_fidelidad_marca:\n"
     ]
    },
    {
     "data": {
      "text/html": [
       "<div>\n",
       "<style scoped>\n",
       "    .dataframe tbody tr th:only-of-type {\n",
       "        vertical-align: middle;\n",
       "    }\n",
       "\n",
       "    .dataframe tbody tr th {\n",
       "        vertical-align: top;\n",
       "    }\n",
       "\n",
       "    .dataframe thead th {\n",
       "        text-align: right;\n",
       "    }\n",
       "</style>\n",
       "<table border=\"1\" class=\"dataframe\">\n",
       "  <thead>\n",
       "    <tr style=\"text-align: right;\">\n",
       "      <th></th>\n",
       "      <th>Loyalty Number</th>\n",
       "      <th>Country</th>\n",
       "      <th>Province</th>\n",
       "      <th>City</th>\n",
       "      <th>Postal Code</th>\n",
       "      <th>Gender</th>\n",
       "      <th>Education</th>\n",
       "      <th>Salary</th>\n",
       "      <th>Marital Status</th>\n",
       "      <th>Loyalty Card</th>\n",
       "      <th>CLV</th>\n",
       "      <th>Enrollment Type</th>\n",
       "      <th>Enrollment Year</th>\n",
       "      <th>Enrollment Month</th>\n",
       "      <th>Cancellation Year</th>\n",
       "      <th>Cancellation Month</th>\n",
       "    </tr>\n",
       "  </thead>\n",
       "  <tbody>\n",
       "    <tr>\n",
       "      <th>0</th>\n",
       "      <td>480934</td>\n",
       "      <td>Canada</td>\n",
       "      <td>Ontario</td>\n",
       "      <td>Toronto</td>\n",
       "      <td>M2Z 4K1</td>\n",
       "      <td>Female</td>\n",
       "      <td>Bachelor</td>\n",
       "      <td>83236.0</td>\n",
       "      <td>Married</td>\n",
       "      <td>Star</td>\n",
       "      <td>3839.14</td>\n",
       "      <td>Standard</td>\n",
       "      <td>2016</td>\n",
       "      <td>2</td>\n",
       "      <td>NaN</td>\n",
       "      <td>NaN</td>\n",
       "    </tr>\n",
       "    <tr>\n",
       "      <th>1</th>\n",
       "      <td>549612</td>\n",
       "      <td>Canada</td>\n",
       "      <td>Alberta</td>\n",
       "      <td>Edmonton</td>\n",
       "      <td>T3G 6Y6</td>\n",
       "      <td>Male</td>\n",
       "      <td>College</td>\n",
       "      <td>NaN</td>\n",
       "      <td>Divorced</td>\n",
       "      <td>Star</td>\n",
       "      <td>3839.61</td>\n",
       "      <td>Standard</td>\n",
       "      <td>2016</td>\n",
       "      <td>3</td>\n",
       "      <td>NaN</td>\n",
       "      <td>NaN</td>\n",
       "    </tr>\n",
       "    <tr>\n",
       "      <th>2</th>\n",
       "      <td>429460</td>\n",
       "      <td>Canada</td>\n",
       "      <td>British Columbia</td>\n",
       "      <td>Vancouver</td>\n",
       "      <td>V6E 3D9</td>\n",
       "      <td>Male</td>\n",
       "      <td>College</td>\n",
       "      <td>NaN</td>\n",
       "      <td>Single</td>\n",
       "      <td>Star</td>\n",
       "      <td>3839.75</td>\n",
       "      <td>Standard</td>\n",
       "      <td>2014</td>\n",
       "      <td>7</td>\n",
       "      <td>2018.0</td>\n",
       "      <td>1.0</td>\n",
       "    </tr>\n",
       "    <tr>\n",
       "      <th>3</th>\n",
       "      <td>608370</td>\n",
       "      <td>Canada</td>\n",
       "      <td>Ontario</td>\n",
       "      <td>Toronto</td>\n",
       "      <td>P1W 1K4</td>\n",
       "      <td>Male</td>\n",
       "      <td>College</td>\n",
       "      <td>NaN</td>\n",
       "      <td>Single</td>\n",
       "      <td>Star</td>\n",
       "      <td>3839.75</td>\n",
       "      <td>Standard</td>\n",
       "      <td>2013</td>\n",
       "      <td>2</td>\n",
       "      <td>NaN</td>\n",
       "      <td>NaN</td>\n",
       "    </tr>\n",
       "    <tr>\n",
       "      <th>4</th>\n",
       "      <td>530508</td>\n",
       "      <td>Canada</td>\n",
       "      <td>Quebec</td>\n",
       "      <td>Hull</td>\n",
       "      <td>J8Y 3Z5</td>\n",
       "      <td>Male</td>\n",
       "      <td>Bachelor</td>\n",
       "      <td>103495.0</td>\n",
       "      <td>Married</td>\n",
       "      <td>Star</td>\n",
       "      <td>3842.79</td>\n",
       "      <td>Standard</td>\n",
       "      <td>2014</td>\n",
       "      <td>10</td>\n",
       "      <td>NaN</td>\n",
       "      <td>NaN</td>\n",
       "    </tr>\n",
       "  </tbody>\n",
       "</table>\n",
       "</div>"
      ],
      "text/plain": [
       "   Loyalty Number Country          Province       City Postal Code  Gender  \\\n",
       "0          480934  Canada           Ontario    Toronto     M2Z 4K1  Female   \n",
       "1          549612  Canada           Alberta   Edmonton     T3G 6Y6    Male   \n",
       "2          429460  Canada  British Columbia  Vancouver     V6E 3D9    Male   \n",
       "3          608370  Canada           Ontario    Toronto     P1W 1K4    Male   \n",
       "4          530508  Canada            Quebec       Hull     J8Y 3Z5    Male   \n",
       "\n",
       "  Education    Salary Marital Status Loyalty Card      CLV Enrollment Type  \\\n",
       "0  Bachelor   83236.0        Married         Star  3839.14        Standard   \n",
       "1   College       NaN       Divorced         Star  3839.61        Standard   \n",
       "2   College       NaN         Single         Star  3839.75        Standard   \n",
       "3   College       NaN         Single         Star  3839.75        Standard   \n",
       "4  Bachelor  103495.0        Married         Star  3842.79        Standard   \n",
       "\n",
       "   Enrollment Year  Enrollment Month  Cancellation Year  Cancellation Month  \n",
       "0             2016                 2                NaN                 NaN  \n",
       "1             2016                 3                NaN                 NaN  \n",
       "2             2014                 7             2018.0                 1.0  \n",
       "3             2013                 2                NaN                 NaN  \n",
       "4             2014                10                NaN                 NaN  "
      ]
     },
     "metadata": {},
     "output_type": "display_data"
    },
    {
     "name": "stdout",
     "output_type": "stream",
     "text": [
      "\n",
      "Información resumida df_vuelos:\n",
      "\n",
      "<class 'pandas.core.frame.DataFrame'>\n",
      "RangeIndex: 405624 entries, 0 to 405623\n",
      "Data columns (total 10 columns):\n",
      " #   Column                       Non-Null Count   Dtype  \n",
      "---  ------                       --------------   -----  \n",
      " 0   Loyalty Number               405624 non-null  int64  \n",
      " 1   Year                         405624 non-null  int64  \n",
      " 2   Month                        405624 non-null  int64  \n",
      " 3   Flights Booked               405624 non-null  int64  \n",
      " 4   Flights with Companions      405624 non-null  int64  \n",
      " 5   Total Flights                405624 non-null  int64  \n",
      " 6   Distance                     405624 non-null  int64  \n",
      " 7   Points Accumulated           405624 non-null  float64\n",
      " 8   Points Redeemed              405624 non-null  int64  \n",
      " 9   Dollar Cost Points Redeemed  405624 non-null  int64  \n",
      "dtypes: float64(1), int64(9)\n",
      "memory usage: 30.9 MB\n"
     ]
    },
    {
     "data": {
      "text/plain": [
       "None"
      ]
     },
     "metadata": {},
     "output_type": "display_data"
    },
    {
     "name": "stdout",
     "output_type": "stream",
     "text": [
      "\n",
      "Información resumida df_fidelidad_marca:\n",
      "\n",
      "<class 'pandas.core.frame.DataFrame'>\n",
      "RangeIndex: 16737 entries, 0 to 16736\n",
      "Data columns (total 16 columns):\n",
      " #   Column              Non-Null Count  Dtype  \n",
      "---  ------              --------------  -----  \n",
      " 0   Loyalty Number      16737 non-null  int64  \n",
      " 1   Country             16737 non-null  object \n",
      " 2   Province            16737 non-null  object \n",
      " 3   City                16737 non-null  object \n",
      " 4   Postal Code         16737 non-null  object \n",
      " 5   Gender              16737 non-null  object \n",
      " 6   Education           16737 non-null  object \n",
      " 7   Salary              12499 non-null  float64\n",
      " 8   Marital Status      16737 non-null  object \n",
      " 9   Loyalty Card        16737 non-null  object \n",
      " 10  CLV                 16737 non-null  float64\n",
      " 11  Enrollment Type     16737 non-null  object \n",
      " 12  Enrollment Year     16737 non-null  int64  \n",
      " 13  Enrollment Month    16737 non-null  int64  \n",
      " 14  Cancellation Year   2067 non-null   float64\n",
      " 15  Cancellation Month  2067 non-null   float64\n",
      "dtypes: float64(4), int64(3), object(9)\n",
      "memory usage: 2.0+ MB\n"
     ]
    },
    {
     "data": {
      "text/plain": [
       "None"
      ]
     },
     "metadata": {},
     "output_type": "display_data"
    },
    {
     "name": "stdout",
     "output_type": "stream",
     "text": [
      "*****************************\n"
     ]
    }
   ],
   "source": [
    "def explorar_varios_dataset(df1, df2): \n",
    "    print('*****************************')\n",
    "    print(\"Tamaño del dataset:\") # Tamaño de los dataset (filas y columnas)\n",
    "    print(f\"El Dataframe vuelos tiene un total de {df_vuelos.shape[0]} Filas, y {df_vuelos.shape[1]} Columnas\")\n",
    "    print(f\"El Dataframe didelidad de marca tiene un total de {df_fidelidad_marca.shape[0]} Filas, y {df_fidelidad_marca.shape[1]} Columnas\\n\") # Tamaño del dataset (filas y columnas)\n",
    "    print('*****************************')\n",
    "\n",
    "    # Visualización primeras 5 filas\n",
    "    print(\"\\nPrimeras 5 filas df_vuelos:\") \n",
    "    display(df_vuelos.head()) \n",
    "    print(\"\\nPrimeras 5 filas df_fidelidad_marca:\") \n",
    "    display(df_fidelidad_marca.head())\n",
    "\n",
    "    # Información resumida de los datos del dataframe\n",
    "    print(\"\\nInformación resumida df_vuelos:\\n\") \n",
    "    display(df_vuelos.info())\n",
    "    print(\"\\nInformación resumida df_fidelidad_marca:\\n\") \n",
    "    display(df_fidelidad_marca.info())    \n",
    "    print('*****************************')\n",
    "\n",
    "# Llamamos a la función para ver los datos\n",
    "explorar_varios_dataset(df_vuelos, df_fidelidad_marca)"
   ]
  },
  {
   "cell_type": "markdown",
   "metadata": {},
   "source": [
    "**Tipos de datos**"
   ]
  },
  {
   "cell_type": "code",
   "execution_count": 50,
   "metadata": {},
   "outputs": [
    {
     "name": "stdout",
     "output_type": "stream",
     "text": [
      "*****************************\n",
      "\n",
      "Tipos de datos df_vuelos:\n"
     ]
    },
    {
     "data": {
      "text/plain": [
       "Loyalty Number                   int64\n",
       "Year                             int64\n",
       "Month                            int64\n",
       "Flights Booked                   int64\n",
       "Flights with Companions          int64\n",
       "Total Flights                    int64\n",
       "Distance                         int64\n",
       "Points Accumulated             float64\n",
       "Points Redeemed                  int64\n",
       "Dollar Cost Points Redeemed      int64\n",
       "dtype: object"
      ]
     },
     "metadata": {},
     "output_type": "display_data"
    },
    {
     "name": "stdout",
     "output_type": "stream",
     "text": [
      "\n",
      "Tipos de datos df_fidelidad_marca:\n"
     ]
    },
    {
     "data": {
      "text/plain": [
       "Loyalty Number          int64\n",
       "Country                object\n",
       "Province               object\n",
       "City                   object\n",
       "Postal Code            object\n",
       "Gender                 object\n",
       "Education              object\n",
       "Salary                float64\n",
       "Marital Status         object\n",
       "Loyalty Card           object\n",
       "CLV                   float64\n",
       "Enrollment Type        object\n",
       "Enrollment Year         int64\n",
       "Enrollment Month        int64\n",
       "Cancellation Year     float64\n",
       "Cancellation Month    float64\n",
       "dtype: object"
      ]
     },
     "metadata": {},
     "output_type": "display_data"
    },
    {
     "name": "stdout",
     "output_type": "stream",
     "text": [
      "*****************************\n"
     ]
    }
   ],
   "source": [
    "# Tipos de datos por columna\n",
    "print('*****************************')\n",
    "print(\"\\nTipos de datos df_vuelos:\") \n",
    "display(df_vuelos.dtypes)\n",
    "print(\"\\nTipos de datos df_fidelidad_marca:\") \n",
    "display(df_fidelidad_marca.dtypes)\n",
    "print('*****************************')"
   ]
  },
  {
   "cell_type": "markdown",
   "metadata": {},
   "source": [
    "#### Identificación de valores nulos"
   ]
  },
  {
   "cell_type": "code",
   "execution_count": 51,
   "metadata": {},
   "outputs": [
    {
     "name": "stdout",
     "output_type": "stream",
     "text": [
      "\n",
      "Valores nulos en df_vuelos:\n"
     ]
    },
    {
     "data": {
      "text/plain": [
       "Loyalty Number                 0\n",
       "Year                           0\n",
       "Month                          0\n",
       "Flights Booked                 0\n",
       "Flights with Companions        0\n",
       "Total Flights                  0\n",
       "Distance                       0\n",
       "Points Accumulated             0\n",
       "Points Redeemed                0\n",
       "Dollar Cost Points Redeemed    0\n",
       "dtype: int64"
      ]
     },
     "metadata": {},
     "output_type": "display_data"
    },
    {
     "name": "stdout",
     "output_type": "stream",
     "text": [
      "\n",
      "Valores nulos en df_fidelidad_marca:\n"
     ]
    },
    {
     "data": {
      "text/plain": [
       "Loyalty Number            0\n",
       "Country                   0\n",
       "Province                  0\n",
       "City                      0\n",
       "Postal Code               0\n",
       "Gender                    0\n",
       "Education                 0\n",
       "Salary                 4238\n",
       "Marital Status            0\n",
       "Loyalty Card              0\n",
       "CLV                       0\n",
       "Enrollment Type           0\n",
       "Enrollment Year           0\n",
       "Enrollment Month          0\n",
       "Cancellation Year     14670\n",
       "Cancellation Month    14670\n",
       "dtype: int64"
      ]
     },
     "metadata": {},
     "output_type": "display_data"
    }
   ],
   "source": [
    "# Identifico si hay valores nulos o faltantes en los registros\n",
    "\n",
    "nulos_vuelos = df_vuelos.isnull().sum()\n",
    "print(\"\\nValores nulos en df_vuelos:\") \n",
    "display(df_vuelos.isnull().sum())\n",
    "# % nulos ordenados de mayor a menor\n",
    "nulos_vuelos.sort_values(ascending=False)\n",
    "\n",
    "\n",
    "print(\"\\nValores nulos en df_fidelidad_marca:\") \n",
    "nulos_fidelidad_marca = df_fidelidad_marca.isnull().sum()\n",
    "display(df_fidelidad_marca.isnull().sum())\n"
   ]
  },
  {
   "cell_type": "markdown",
   "metadata": {},
   "source": [
    "#### Identificación de valores duplicados"
   ]
  },
  {
   "cell_type": "code",
   "execution_count": 52,
   "metadata": {},
   "outputs": [
    {
     "name": "stdout",
     "output_type": "stream",
     "text": [
      "*****************************\n",
      "\n",
      "Las filas duplicadas en datos df_vuelos: 1864\n",
      "\n",
      "Las filas duplicadas en datos df_fidelidad_marca: 0\n",
      "\n",
      "*****************************\n"
     ]
    }
   ],
   "source": [
    "# Identifico si hay registros exactamente iguales o muy similares. Si los hay calculo su cantidad.\n",
    "\n",
    "print('*****************************')\n",
    "print(f\"\\nLas filas duplicadas en datos df_vuelos: {df_vuelos.duplicated().sum()}\" ) # Tipos de datos por columna\n",
    "print(f\"\\nLas filas duplicadas en datos df_fidelidad_marca: {df_fidelidad_marca.duplicated().sum()}\\n\") # Tipos de datos por columna\n",
    "print('*****************************')"
   ]
  },
  {
   "cell_type": "markdown",
   "metadata": {},
   "source": [
    "#### Principales estadísticas de todas las columnas de los dos dataframes"
   ]
  },
  {
   "cell_type": "code",
   "execution_count": 53,
   "metadata": {},
   "outputs": [
    {
     "name": "stdout",
     "output_type": "stream",
     "text": [
      "*****************************\n",
      "\n",
      "Principales estadísticas de df_vuelos\n",
      "\n",
      "Numéricas:\n"
     ]
    },
    {
     "data": {
      "text/html": [
       "<div>\n",
       "<style scoped>\n",
       "    .dataframe tbody tr th:only-of-type {\n",
       "        vertical-align: middle;\n",
       "    }\n",
       "\n",
       "    .dataframe tbody tr th {\n",
       "        vertical-align: top;\n",
       "    }\n",
       "\n",
       "    .dataframe thead th {\n",
       "        text-align: right;\n",
       "    }\n",
       "</style>\n",
       "<table border=\"1\" class=\"dataframe\">\n",
       "  <thead>\n",
       "    <tr style=\"text-align: right;\">\n",
       "      <th></th>\n",
       "      <th>count</th>\n",
       "      <th>mean</th>\n",
       "      <th>std</th>\n",
       "      <th>min</th>\n",
       "      <th>25%</th>\n",
       "      <th>50%</th>\n",
       "      <th>75%</th>\n",
       "      <th>max</th>\n",
       "    </tr>\n",
       "  </thead>\n",
       "  <tbody>\n",
       "    <tr>\n",
       "      <th>Loyalty Number</th>\n",
       "      <td>405624.0</td>\n",
       "      <td>550037.873084</td>\n",
       "      <td>258935.286969</td>\n",
       "      <td>100018.0</td>\n",
       "      <td>326961.00</td>\n",
       "      <td>550834.0</td>\n",
       "      <td>772194.00</td>\n",
       "      <td>999986.0</td>\n",
       "    </tr>\n",
       "    <tr>\n",
       "      <th>Year</th>\n",
       "      <td>405624.0</td>\n",
       "      <td>2017.500000</td>\n",
       "      <td>0.500001</td>\n",
       "      <td>2017.0</td>\n",
       "      <td>2017.00</td>\n",
       "      <td>2017.5</td>\n",
       "      <td>2018.00</td>\n",
       "      <td>2018.0</td>\n",
       "    </tr>\n",
       "    <tr>\n",
       "      <th>Month</th>\n",
       "      <td>405624.0</td>\n",
       "      <td>6.500000</td>\n",
       "      <td>3.452057</td>\n",
       "      <td>1.0</td>\n",
       "      <td>3.75</td>\n",
       "      <td>6.5</td>\n",
       "      <td>9.25</td>\n",
       "      <td>12.0</td>\n",
       "    </tr>\n",
       "    <tr>\n",
       "      <th>Flights Booked</th>\n",
       "      <td>405624.0</td>\n",
       "      <td>4.115052</td>\n",
       "      <td>5.225518</td>\n",
       "      <td>0.0</td>\n",
       "      <td>0.00</td>\n",
       "      <td>1.0</td>\n",
       "      <td>8.00</td>\n",
       "      <td>21.0</td>\n",
       "    </tr>\n",
       "    <tr>\n",
       "      <th>Flights with Companions</th>\n",
       "      <td>405624.0</td>\n",
       "      <td>1.031805</td>\n",
       "      <td>2.076869</td>\n",
       "      <td>0.0</td>\n",
       "      <td>0.00</td>\n",
       "      <td>0.0</td>\n",
       "      <td>1.00</td>\n",
       "      <td>11.0</td>\n",
       "    </tr>\n",
       "    <tr>\n",
       "      <th>Total Flights</th>\n",
       "      <td>405624.0</td>\n",
       "      <td>5.146858</td>\n",
       "      <td>6.521227</td>\n",
       "      <td>0.0</td>\n",
       "      <td>0.00</td>\n",
       "      <td>1.0</td>\n",
       "      <td>10.00</td>\n",
       "      <td>32.0</td>\n",
       "    </tr>\n",
       "    <tr>\n",
       "      <th>Distance</th>\n",
       "      <td>405624.0</td>\n",
       "      <td>1208.880059</td>\n",
       "      <td>1433.155320</td>\n",
       "      <td>0.0</td>\n",
       "      <td>0.00</td>\n",
       "      <td>488.0</td>\n",
       "      <td>2336.00</td>\n",
       "      <td>6293.0</td>\n",
       "    </tr>\n",
       "    <tr>\n",
       "      <th>Points Accumulated</th>\n",
       "      <td>405624.0</td>\n",
       "      <td>123.692721</td>\n",
       "      <td>146.599831</td>\n",
       "      <td>0.0</td>\n",
       "      <td>0.00</td>\n",
       "      <td>50.0</td>\n",
       "      <td>239.00</td>\n",
       "      <td>676.5</td>\n",
       "    </tr>\n",
       "    <tr>\n",
       "      <th>Points Redeemed</th>\n",
       "      <td>405624.0</td>\n",
       "      <td>30.696872</td>\n",
       "      <td>125.486049</td>\n",
       "      <td>0.0</td>\n",
       "      <td>0.00</td>\n",
       "      <td>0.0</td>\n",
       "      <td>0.00</td>\n",
       "      <td>876.0</td>\n",
       "    </tr>\n",
       "    <tr>\n",
       "      <th>Dollar Cost Points Redeemed</th>\n",
       "      <td>405624.0</td>\n",
       "      <td>2.484503</td>\n",
       "      <td>10.150038</td>\n",
       "      <td>0.0</td>\n",
       "      <td>0.00</td>\n",
       "      <td>0.0</td>\n",
       "      <td>0.00</td>\n",
       "      <td>71.0</td>\n",
       "    </tr>\n",
       "  </tbody>\n",
       "</table>\n",
       "</div>"
      ],
      "text/plain": [
       "                                count           mean            std       min  \\\n",
       "Loyalty Number               405624.0  550037.873084  258935.286969  100018.0   \n",
       "Year                         405624.0    2017.500000       0.500001    2017.0   \n",
       "Month                        405624.0       6.500000       3.452057       1.0   \n",
       "Flights Booked               405624.0       4.115052       5.225518       0.0   \n",
       "Flights with Companions      405624.0       1.031805       2.076869       0.0   \n",
       "Total Flights                405624.0       5.146858       6.521227       0.0   \n",
       "Distance                     405624.0    1208.880059    1433.155320       0.0   \n",
       "Points Accumulated           405624.0     123.692721     146.599831       0.0   \n",
       "Points Redeemed              405624.0      30.696872     125.486049       0.0   \n",
       "Dollar Cost Points Redeemed  405624.0       2.484503      10.150038       0.0   \n",
       "\n",
       "                                   25%       50%        75%       max  \n",
       "Loyalty Number               326961.00  550834.0  772194.00  999986.0  \n",
       "Year                           2017.00    2017.5    2018.00    2018.0  \n",
       "Month                             3.75       6.5       9.25      12.0  \n",
       "Flights Booked                    0.00       1.0       8.00      21.0  \n",
       "Flights with Companions           0.00       0.0       1.00      11.0  \n",
       "Total Flights                     0.00       1.0      10.00      32.0  \n",
       "Distance                          0.00     488.0    2336.00    6293.0  \n",
       "Points Accumulated                0.00      50.0     239.00     676.5  \n",
       "Points Redeemed                   0.00       0.0       0.00     876.0  \n",
       "Dollar Cost Points Redeemed       0.00       0.0       0.00      71.0  "
      ]
     },
     "metadata": {},
     "output_type": "display_data"
    }
   ],
   "source": [
    "print('*****************************')\n",
    "print(f'\\nPrincipales estadísticas de df_vuelos') # Variables numéricas\n",
    "print(f'\\nNuméricas:')\n",
    "display(df_vuelos.describe().T)\n"
   ]
  },
  {
   "cell_type": "code",
   "execution_count": 54,
   "metadata": {},
   "outputs": [
    {
     "name": "stdout",
     "output_type": "stream",
     "text": [
      "*****************************\n",
      "\n",
      "Principales estadísticas de df_fidelidad_marca\n",
      "\n",
      "Numéricas:\n"
     ]
    },
    {
     "data": {
      "text/html": [
       "<div>\n",
       "<style scoped>\n",
       "    .dataframe tbody tr th:only-of-type {\n",
       "        vertical-align: middle;\n",
       "    }\n",
       "\n",
       "    .dataframe tbody tr th {\n",
       "        vertical-align: top;\n",
       "    }\n",
       "\n",
       "    .dataframe thead th {\n",
       "        text-align: right;\n",
       "    }\n",
       "</style>\n",
       "<table border=\"1\" class=\"dataframe\">\n",
       "  <thead>\n",
       "    <tr style=\"text-align: right;\">\n",
       "      <th></th>\n",
       "      <th>count</th>\n",
       "      <th>mean</th>\n",
       "      <th>std</th>\n",
       "      <th>min</th>\n",
       "      <th>25%</th>\n",
       "      <th>50%</th>\n",
       "      <th>75%</th>\n",
       "      <th>max</th>\n",
       "    </tr>\n",
       "  </thead>\n",
       "  <tbody>\n",
       "    <tr>\n",
       "      <th>Loyalty Number</th>\n",
       "      <td>16737.0</td>\n",
       "      <td>549735.880445</td>\n",
       "      <td>258912.132453</td>\n",
       "      <td>100018.00</td>\n",
       "      <td>326603.00</td>\n",
       "      <td>550434.00</td>\n",
       "      <td>772019.00</td>\n",
       "      <td>999986.00</td>\n",
       "    </tr>\n",
       "    <tr>\n",
       "      <th>Salary</th>\n",
       "      <td>12499.0</td>\n",
       "      <td>79245.609409</td>\n",
       "      <td>35008.297285</td>\n",
       "      <td>-58486.00</td>\n",
       "      <td>59246.50</td>\n",
       "      <td>73455.00</td>\n",
       "      <td>88517.50</td>\n",
       "      <td>407228.00</td>\n",
       "    </tr>\n",
       "    <tr>\n",
       "      <th>CLV</th>\n",
       "      <td>16737.0</td>\n",
       "      <td>7988.896536</td>\n",
       "      <td>6860.982280</td>\n",
       "      <td>1898.01</td>\n",
       "      <td>3980.84</td>\n",
       "      <td>5780.18</td>\n",
       "      <td>8940.58</td>\n",
       "      <td>83325.38</td>\n",
       "    </tr>\n",
       "    <tr>\n",
       "      <th>Enrollment Year</th>\n",
       "      <td>16737.0</td>\n",
       "      <td>2015.253211</td>\n",
       "      <td>1.979111</td>\n",
       "      <td>2012.00</td>\n",
       "      <td>2014.00</td>\n",
       "      <td>2015.00</td>\n",
       "      <td>2017.00</td>\n",
       "      <td>2018.00</td>\n",
       "    </tr>\n",
       "    <tr>\n",
       "      <th>Enrollment Month</th>\n",
       "      <td>16737.0</td>\n",
       "      <td>6.669116</td>\n",
       "      <td>3.398958</td>\n",
       "      <td>1.00</td>\n",
       "      <td>4.00</td>\n",
       "      <td>7.00</td>\n",
       "      <td>10.00</td>\n",
       "      <td>12.00</td>\n",
       "    </tr>\n",
       "    <tr>\n",
       "      <th>Cancellation Year</th>\n",
       "      <td>2067.0</td>\n",
       "      <td>2016.503145</td>\n",
       "      <td>1.380743</td>\n",
       "      <td>2013.00</td>\n",
       "      <td>2016.00</td>\n",
       "      <td>2017.00</td>\n",
       "      <td>2018.00</td>\n",
       "      <td>2018.00</td>\n",
       "    </tr>\n",
       "    <tr>\n",
       "      <th>Cancellation Month</th>\n",
       "      <td>2067.0</td>\n",
       "      <td>6.962748</td>\n",
       "      <td>3.455297</td>\n",
       "      <td>1.00</td>\n",
       "      <td>4.00</td>\n",
       "      <td>7.00</td>\n",
       "      <td>10.00</td>\n",
       "      <td>12.00</td>\n",
       "    </tr>\n",
       "  </tbody>\n",
       "</table>\n",
       "</div>"
      ],
      "text/plain": [
       "                      count           mean            std        min  \\\n",
       "Loyalty Number      16737.0  549735.880445  258912.132453  100018.00   \n",
       "Salary              12499.0   79245.609409   35008.297285  -58486.00   \n",
       "CLV                 16737.0    7988.896536    6860.982280    1898.01   \n",
       "Enrollment Year     16737.0    2015.253211       1.979111    2012.00   \n",
       "Enrollment Month    16737.0       6.669116       3.398958       1.00   \n",
       "Cancellation Year    2067.0    2016.503145       1.380743    2013.00   \n",
       "Cancellation Month   2067.0       6.962748       3.455297       1.00   \n",
       "\n",
       "                          25%        50%        75%        max  \n",
       "Loyalty Number      326603.00  550434.00  772019.00  999986.00  \n",
       "Salary               59246.50   73455.00   88517.50  407228.00  \n",
       "CLV                   3980.84    5780.18    8940.58   83325.38  \n",
       "Enrollment Year       2014.00    2015.00    2017.00    2018.00  \n",
       "Enrollment Month         4.00       7.00      10.00      12.00  \n",
       "Cancellation Year     2016.00    2017.00    2018.00    2018.00  \n",
       "Cancellation Month       4.00       7.00      10.00      12.00  "
      ]
     },
     "metadata": {},
     "output_type": "display_data"
    },
    {
     "name": "stdout",
     "output_type": "stream",
     "text": [
      "*****************************\n",
      "\n",
      "Categóricas:\n"
     ]
    },
    {
     "data": {
      "text/html": [
       "<div>\n",
       "<style scoped>\n",
       "    .dataframe tbody tr th:only-of-type {\n",
       "        vertical-align: middle;\n",
       "    }\n",
       "\n",
       "    .dataframe tbody tr th {\n",
       "        vertical-align: top;\n",
       "    }\n",
       "\n",
       "    .dataframe thead th {\n",
       "        text-align: right;\n",
       "    }\n",
       "</style>\n",
       "<table border=\"1\" class=\"dataframe\">\n",
       "  <thead>\n",
       "    <tr style=\"text-align: right;\">\n",
       "      <th></th>\n",
       "      <th>count</th>\n",
       "      <th>unique</th>\n",
       "      <th>top</th>\n",
       "      <th>freq</th>\n",
       "    </tr>\n",
       "  </thead>\n",
       "  <tbody>\n",
       "    <tr>\n",
       "      <th>Country</th>\n",
       "      <td>16737</td>\n",
       "      <td>1</td>\n",
       "      <td>Canada</td>\n",
       "      <td>16737</td>\n",
       "    </tr>\n",
       "    <tr>\n",
       "      <th>Province</th>\n",
       "      <td>16737</td>\n",
       "      <td>11</td>\n",
       "      <td>Ontario</td>\n",
       "      <td>5404</td>\n",
       "    </tr>\n",
       "    <tr>\n",
       "      <th>City</th>\n",
       "      <td>16737</td>\n",
       "      <td>29</td>\n",
       "      <td>Toronto</td>\n",
       "      <td>3351</td>\n",
       "    </tr>\n",
       "    <tr>\n",
       "      <th>Postal Code</th>\n",
       "      <td>16737</td>\n",
       "      <td>55</td>\n",
       "      <td>V6E 3D9</td>\n",
       "      <td>911</td>\n",
       "    </tr>\n",
       "    <tr>\n",
       "      <th>Gender</th>\n",
       "      <td>16737</td>\n",
       "      <td>2</td>\n",
       "      <td>Female</td>\n",
       "      <td>8410</td>\n",
       "    </tr>\n",
       "    <tr>\n",
       "      <th>Education</th>\n",
       "      <td>16737</td>\n",
       "      <td>5</td>\n",
       "      <td>Bachelor</td>\n",
       "      <td>10475</td>\n",
       "    </tr>\n",
       "    <tr>\n",
       "      <th>Marital Status</th>\n",
       "      <td>16737</td>\n",
       "      <td>3</td>\n",
       "      <td>Married</td>\n",
       "      <td>9735</td>\n",
       "    </tr>\n",
       "    <tr>\n",
       "      <th>Loyalty Card</th>\n",
       "      <td>16737</td>\n",
       "      <td>3</td>\n",
       "      <td>Star</td>\n",
       "      <td>7637</td>\n",
       "    </tr>\n",
       "    <tr>\n",
       "      <th>Enrollment Type</th>\n",
       "      <td>16737</td>\n",
       "      <td>2</td>\n",
       "      <td>Standard</td>\n",
       "      <td>15766</td>\n",
       "    </tr>\n",
       "  </tbody>\n",
       "</table>\n",
       "</div>"
      ],
      "text/plain": [
       "                 count unique       top   freq\n",
       "Country          16737      1    Canada  16737\n",
       "Province         16737     11   Ontario   5404\n",
       "City             16737     29   Toronto   3351\n",
       "Postal Code      16737     55   V6E 3D9    911\n",
       "Gender           16737      2    Female   8410\n",
       "Education        16737      5  Bachelor  10475\n",
       "Marital Status   16737      3   Married   9735\n",
       "Loyalty Card     16737      3      Star   7637\n",
       "Enrollment Type  16737      2  Standard  15766"
      ]
     },
     "metadata": {},
     "output_type": "display_data"
    }
   ],
   "source": [
    "print('*****************************')\n",
    "print(f'\\nPrincipales estadísticas de df_fidelidad_marca')\n",
    "print(f'\\nNuméricas:')\n",
    "display(df_fidelidad_marca.describe().T) # Variables numéricas\n",
    "print('*****************************')\n",
    "print(f'\\nCategóricas:')\n",
    "display(df_fidelidad_marca.describe(include = \"O\").T) # Variables categóricas"
   ]
  },
  {
   "cell_type": "markdown",
   "metadata": {},
   "source": [
    "#### Identifico valores únicos y de frecuencia de cada dataframe"
   ]
  },
  {
   "cell_type": "code",
   "execution_count": 55,
   "metadata": {},
   "outputs": [
    {
     "name": "stdout",
     "output_type": "stream",
     "text": [
      " \n",
      "----------- ESTAMOS ANALIZANDO LA COLUMNA: 'Loyalty Number' -----------\n",
      "\n",
      "Sus valores únicos son:\n",
      " [100018 100102 100140 ... 999731 999788 999891]\n",
      "Las frecuencias de los valores únicos de las columnas son:\n",
      "        Loyalty Number  count\n",
      "0              678205     72\n",
      "1              989528     48\n",
      "2              373638     48\n",
      "3              684889     48\n",
      "4              684881     48\n",
      "...               ...    ...\n",
      "16732          428526     24\n",
      "16733          428536     24\n",
      "16734          428565     24\n",
      "16735          428590     24\n",
      "16736          999891     24\n",
      "\n",
      "[16737 rows x 2 columns]\n",
      " \n",
      "----------- ESTAMOS ANALIZANDO LA COLUMNA: 'Year' -----------\n",
      "\n",
      "Sus valores únicos son:\n",
      " [2017 2018]\n",
      "Las frecuencias de los valores únicos de las columnas son:\n",
      "    Year   count\n",
      "0  2017  202812\n",
      "1  2018  202812\n",
      " \n",
      "----------- ESTAMOS ANALIZANDO LA COLUMNA: 'Month' -----------\n",
      "\n",
      "Sus valores únicos son:\n",
      " [ 1  9  2  3 11  4  5  7  6  8 10 12]\n",
      "Las frecuencias de los valores únicos de las columnas son:\n",
      "     Month  count\n",
      "0       1  33802\n",
      "1       9  33802\n",
      "2       2  33802\n",
      "3       3  33802\n",
      "4      11  33802\n",
      "5       4  33802\n",
      "6       5  33802\n",
      "7       7  33802\n",
      "8       6  33802\n",
      "9       8  33802\n",
      "10     10  33802\n",
      "11     12  33802\n",
      " \n",
      "----------- ESTAMOS ANALIZANDO LA COLUMNA: 'Flights Booked' -----------\n",
      "\n",
      "Sus valores únicos son:\n",
      " [ 3 10  6  0  8 11  9  4  7  5  2  1 12 13 14 16 15 17 18 19 20 21]\n",
      "Las frecuencias de los valores únicos de las columnas son:\n",
      "     Flights Booked   count\n",
      "0                0  197992\n",
      "1                3   18228\n",
      "2               11   15705\n",
      "3                5   15084\n",
      "4                7   14561\n",
      "5                8   14357\n",
      "6                9   14164\n",
      "7                6   13847\n",
      "8                2   13641\n",
      "9               10   13363\n",
      "10               4   12821\n",
      "11               1   12667\n",
      "12              13   10782\n",
      "13              12   10382\n",
      "14              14    7057\n",
      "15              15    6582\n",
      "16              16    4354\n",
      "17              17    3899\n",
      "18              18    2958\n",
      "19              19    1496\n",
      "20              20    1156\n",
      "21              21     528\n",
      " \n",
      "----------- ESTAMOS ANALIZANDO LA COLUMNA: 'Flights with Companions' -----------\n",
      "\n",
      "Sus valores únicos son:\n",
      " [ 0  4  7  1  6  3  5  2 10  8  9 11]\n",
      "Las frecuencias de los valores únicos de las columnas son:\n",
      "     Flights with Companions   count\n",
      "0                         0  296887\n",
      "1                         2   19272\n",
      "2                         3   19015\n",
      "3                         1   17905\n",
      "4                         4   13665\n",
      "5                         5   13424\n",
      "6                         6    9911\n",
      "7                         7    7089\n",
      "8                         8    3965\n",
      "9                         9    2944\n",
      "10                       10    1071\n",
      "11                       11     476\n",
      " \n",
      "----------- ESTAMOS ANALIZANDO LA COLUMNA: 'Total Flights' -----------\n",
      "\n",
      "Sus valores únicos son:\n",
      " [ 3 14  6  0 15 11 12 10  8  9  7  5 16  2  1 17 13 22  4 19 18 21 26 20\n",
      " 23 25 27 24 28 30 29 31 32]\n",
      "Las frecuencias de los valores únicos de las columnas son:\n",
      "     Total Flights   count\n",
      "0               0  197992\n",
      "1               6   15273\n",
      "2              10   14393\n",
      "3               8   14056\n",
      "4               4   13656\n",
      "5               2   13032\n",
      "6              12   12409\n",
      "7              11   12300\n",
      "8               9   10688\n",
      "9              13   10499\n",
      "10             14   10310\n",
      "11              7    9873\n",
      "12              3    9783\n",
      "13              5    9309\n",
      "14             15    8544\n",
      "15             16    7727\n",
      "16             17    6198\n",
      "17              1    6106\n",
      "18             18    5757\n",
      "19             19    4002\n",
      "20             20    3417\n",
      "21             21    2610\n",
      "22             22    1981\n",
      "23             23    1616\n",
      "24             24    1209\n",
      "25             25     900\n",
      "26             26     722\n",
      "27             27     504\n",
      "28             28     306\n",
      "29             29     214\n",
      "30             30     150\n",
      "31             31      61\n",
      "32             32      27\n",
      " \n",
      "----------- ESTAMOS ANALIZANDO LA COLUMNA: 'Distance' -----------\n",
      "\n",
      "Sus valores únicos son:\n",
      " [1521 2030 1200 ... 1217  617 4135]\n",
      "Las frecuencias de los valores únicos de las columnas son:\n",
      "       Distance   count\n",
      "0            0  197992\n",
      "1         2520     410\n",
      "2         2880     401\n",
      "3         1680     389\n",
      "4         2160     365\n",
      "...        ...     ...\n",
      "4741      1333       1\n",
      "4742      3722       1\n",
      "4743      3985       1\n",
      "4744      4779       1\n",
      "4745      4135       1\n",
      "\n",
      "[4746 rows x 2 columns]\n",
      " \n",
      "----------- ESTAMOS ANALIZANDO LA COLUMNA: 'Points Accumulated' -----------\n",
      "\n",
      "Sus valores únicos son:\n",
      " [152.   203.   120.   ...  18.75 601.   626.  ]\n",
      "Las frecuencias de los valores únicos de las columnas son:\n",
      "       Points Accumulated   count\n",
      "0                   0.00  197992\n",
      "1                 180.00     763\n",
      "2                 270.00     734\n",
      "3                 288.00     717\n",
      "4                 189.00     709\n",
      "...                  ...     ...\n",
      "1544              658.50       1\n",
      "1545              556.25       1\n",
      "1546               10.80       1\n",
      "1547              565.50       1\n",
      "1548              626.00       1\n",
      "\n",
      "[1549 rows x 2 columns]\n",
      " \n",
      "----------- ESTAMOS ANALIZANDO LA COLUMNA: 'Points Redeemed' -----------\n",
      "\n",
      "Sus valores únicos son:\n",
      " [  0 341 364 310 445 312 343 366 389 292 447 324 456 409 436 327 322 291\n",
      " 323 300 290 309 325 386 321 363 340 670 443 517 444 328 344 367 313 333\n",
      " 293 449 297 455 372 356 405 381 466 419 369 352 482 335 329 305 415 396\n",
      " 317 348 314 334 350 330 318 298 420 336 471 680 441 353 484 301 374 417\n",
      " 501 299 398 307 368 306 347 439 395 481 337 382 426 373 399 424 326 392\n",
      " 438 467 480 448 308 400 376 375 460 339 385 611 431 320 362 404 442 410\n",
      " 361 319 435 414 464 477 315 485 370 421 349 371 416 496 510 667 465 434\n",
      " 346 487 408 500 360 378 345 358 479 380 411 491 505 446 425 476 393 418\n",
      " 332 401 454 303 594 506 355 302 403 379 437 561 483 597 391 562 342 407\n",
      " 490 468 488 457 365 357 463 388 413 351 462 440 493 507 338 377 428 525\n",
      " 390 473 359 423 519 453 522 429 450 383 469 402 354 422 458 384 656 461\n",
      " 427 478 523 719 538 515 394 472 433 387 540 530 498 512 452 311 470 541\n",
      " 331 570 527 658 494 638 486 509 316 492 536 502 551 504 304 296 294 495\n",
      " 432 526 459 589 529 586 537 503 552 779 516 639 474 547 542 557 406 563\n",
      " 511 518 532 553 508 560 676 716 593 513 499 566 497 546 451 533 489 708\n",
      " 531 567 521 412 430 610 528 556 582 720 397 578 772 571 534 539 576 585\n",
      " 520 601 598 630 524 588 550 514 573 544 669 577 580 591 614 574 579 595\n",
      " 618 776 548 602 543 581 572 607 603 564 620 615 636 575 584 559 648 590\n",
      " 545 627 608 568 625 637 632 650 600 613 621 535 587 475 592 624 619 554\n",
      " 583 628 558 664 789 635 617 699 604 646 659 616 704 569 626 609 751 599\n",
      " 644 800 677 666 596 612 629 657 675 702 683 633 811 688 565 706 605 549\n",
      " 662 660 295 673 555 631 715 651 697 792 678 655 707 668 687 622 642 781\n",
      " 695 711 701 721 623 693 692 640 665 684 745 808 746 749 694 643 725 850\n",
      " 703 726 691 740 737 689 765 649 690 661 696 682 700 750 771 798 710 736\n",
      " 757 743 654 758 647 606 718 739 814 761 783 679 766 777 799 723 653 730\n",
      " 681 760 793 742 685 734 839 782 735 756 795 728 780 802 815 851 820 770\n",
      " 705 738 645 686 755 754 778 671 634 762 784 717 797 744 672 768 790 741\n",
      " 824 748 674 825 794 845 827 801 714 731 724 876 747 663 709 823 791 804\n",
      " 832 698 727 833 810 864 753 840 722 641 822 834 844 865 869 733 828 773\n",
      " 713 821 849 767 759 729 803 838 775 818 843 830 847 872 809 786 812 785\n",
      " 841 752 712 816 289 652 787 852 848 769 846 870 871 796 807 774 805 763\n",
      " 806 836 837 857 813 873 732 826 858 817 829 819 866 842 861 855 831 875\n",
      " 868 835 764 862 874 860 863 854 788 867 859]\n",
      "Las frecuencias de los valores únicos de las columnas son:\n",
      "      Points Redeemed   count\n",
      "0                  0  381443\n",
      "1                447     103\n",
      "2                523     100\n",
      "3                443      98\n",
      "4                516      97\n",
      "..               ...     ...\n",
      "582              834       1\n",
      "583              858       1\n",
      "584              862       1\n",
      "585              869       1\n",
      "586              859       1\n",
      "\n",
      "[587 rows x 2 columns]\n",
      " \n",
      "----------- ESTAMOS ANALIZANDO LA COLUMNA: 'Dollar Cost Points Redeemed' -----------\n",
      "\n",
      "Sus valores únicos son:\n",
      " [ 0 28 30 25 36 32 24 26 37 33 35 27 31 54 42 29 38 34 39 55 41 49 40 48\n",
      " 45 53 58 44 43 46 52 47 63 57 62 51 50 64 56 61 65 60 68 59 66 69 67 71\n",
      " 70]\n",
      "Las frecuencias de los valores únicos de las columnas son:\n",
      "     Dollar Cost Points Redeemed   count\n",
      "0                             0  381443\n",
      "1                            36    1037\n",
      "2                            38    1001\n",
      "3                            40     993\n",
      "4                            42     983\n",
      "5                            39     943\n",
      "6                            44     923\n",
      "7                            41     913\n",
      "8                            37     887\n",
      "9                            43     877\n",
      "10                           35     852\n",
      "11                           34     844\n",
      "12                           32     817\n",
      "13                           33     800\n",
      "14                           45     779\n",
      "15                           30     772\n",
      "16                           46     753\n",
      "17                           31     722\n",
      "18                           47     675\n",
      "19                           48     638\n",
      "20                           28     598\n",
      "21                           29     596\n",
      "22                           50     595\n",
      "23                           49     568\n",
      "24                           52     482\n",
      "25                           51     435\n",
      "26                           27     421\n",
      "27                           54     402\n",
      "28                           26     379\n",
      "29                           53     377\n",
      "30                           56     365\n",
      "31                           55     343\n",
      "32                           57     274\n",
      "33                           58     265\n",
      "34                           60     260\n",
      "35                           59     219\n",
      "36                           25     209\n",
      "37                           61     175\n",
      "38                           63     175\n",
      "39                           62     155\n",
      "40                           64     152\n",
      "41                           24     110\n",
      "42                           66     106\n",
      "43                           65      90\n",
      "44                           68      85\n",
      "45                           67      68\n",
      "46                           70      38\n",
      "47                           69      28\n",
      "48                           71       2\n"
     ]
    }
   ],
   "source": [
    "# Identifico valores únicos y de frecuencia en df_vuelos\n",
    "# No analizo tipo de dato categórico porque no los tiene. Solo tiene datos de tipo numérico.\n",
    "\n",
    "def mostrar_valores_frecuencias(df, select_dtypes=None, index_column=None):# select_types nos permite elegir el tipo de datos que queremos obtener de las columnas\n",
    "    columnas = df_vuelos.select_dtypes(include=select_dtypes).columns # Creamos variable donde asignamos la posibilidad de elegir el tipo de dato.\n",
    "    for columna in columnas: # itera por cada columna del dataframe\n",
    "        print(f\" \\n----------- ESTAMOS ANALIZANDO LA COLUMNA: '{columna}' -----------\\n\") # Homogeniza los nombres de las columnas.\n",
    "        print(f'Sus valores únicos son:\\n {df_vuelos[columna].unique()}') # Devuelve los valores únicos\n",
    "        print(f'Las frecuencias de los valores únicos de las columnas son:\\n {df_vuelos[columna].value_counts().reset_index()}') # Cuenta la frecuencia de valores únicos de una columna\n",
    "\n",
    "mostrar_valores_frecuencias(df_vuelos, select_dtypes=['int64','float']) # Elegimos object si queremos columnas con variables numéricas."
   ]
  },
  {
   "cell_type": "markdown",
   "metadata": {},
   "source": [
    "-------------------\n",
    "- Comentarios que considero destacables en este análisis de valores únicos y frecuencias:s:\n",
    "    - El registro de años son dos: 2017 y 2018\n",
    "    \n",
    "\n",
    "-------------------\n",
    "    "
   ]
  },
  {
   "cell_type": "code",
   "execution_count": 56,
   "metadata": {},
   "outputs": [
    {
     "name": "stdout",
     "output_type": "stream",
     "text": [
      " \n",
      "----------- ESTAMOS ANALIZANDO LA COLUMNA: 'Loyalty Number' -----------\n",
      "\n",
      "Sus valores únicos son:\n",
      " [480934 549612 429460 ... 776187 906428 652627]\n",
      "Las frecuencias de los valores únicos de las columnas son:\n",
      "        Loyalty Number  count\n",
      "0              480934      1\n",
      "1              208485      1\n",
      "2              455896      1\n",
      "3              469781      1\n",
      "4              533488      1\n",
      "...               ...    ...\n",
      "16732          922188      1\n",
      "16733          780529      1\n",
      "16734          721438      1\n",
      "16735          761015      1\n",
      "16736          652627      1\n",
      "\n",
      "[16737 rows x 2 columns]\n",
      " \n",
      "----------- ESTAMOS ANALIZANDO LA COLUMNA: 'Salary' -----------\n",
      "\n",
      "Sus valores únicos son:\n",
      " [ 83236.     nan 103495. ...  76178.  91970. -57297.]\n",
      "Las frecuencias de los valores únicos de las columnas son:\n",
      "         Salary  count\n",
      "0     101933.0     23\n",
      "1      62283.0     14\n",
      "2      61809.0     14\n",
      "3      51573.0     14\n",
      "4      64001.0     13\n",
      "...        ...    ...\n",
      "5885   95907.0      1\n",
      "5886   72440.0      1\n",
      "5887   88633.0      1\n",
      "5888  100572.0      1\n",
      "5889  -57297.0      1\n",
      "\n",
      "[5890 rows x 2 columns]\n",
      " \n",
      "----------- ESTAMOS ANALIZANDO LA COLUMNA: 'CLV' -----------\n",
      "\n",
      "Sus valores únicos son:\n",
      " [ 3839.14  3839.61  3839.75 ... 44771.3  50568.26 61134.68]\n",
      "Las frecuencias de los valores únicos de las columnas son:\n",
      "            CLV  count\n",
      "0      8564.77     13\n",
      "1     13024.13     12\n",
      "2      3808.12     12\n",
      "3      2359.42     12\n",
      "4      3731.50     12\n",
      "...        ...    ...\n",
      "7979  16152.90      1\n",
      "7980   5204.65      1\n",
      "7981   5620.59      1\n",
      "7982   5205.02      1\n",
      "7983  61134.68      1\n",
      "\n",
      "[7984 rows x 2 columns]\n",
      " \n",
      "----------- ESTAMOS ANALIZANDO LA COLUMNA: 'Enrollment Year' -----------\n",
      "\n",
      "Sus valores únicos son:\n",
      " [2016 2014 2013 2012 2015 2018 2017]\n",
      "Las frecuencias de los valores únicos de las columnas son:\n",
      "    Enrollment Year  count\n",
      "0             2018   3010\n",
      "1             2017   2487\n",
      "2             2016   2456\n",
      "3             2013   2397\n",
      "4             2014   2370\n",
      "5             2015   2331\n",
      "6             2012   1686\n",
      " \n",
      "----------- ESTAMOS ANALIZANDO LA COLUMNA: 'Enrollment Month' -----------\n",
      "\n",
      "Sus valores únicos son:\n",
      " [ 2  3  7 10  5  6 12  1 11  8  4  9]\n",
      "Las frecuencias de los valores únicos de las columnas son:\n",
      "     Enrollment Month  count\n",
      "0                  5   1503\n",
      "1                 12   1480\n",
      "2                  7   1473\n",
      "3                 11   1446\n",
      "4                 10   1444\n",
      "5                  8   1430\n",
      "6                  6   1412\n",
      "7                  9   1391\n",
      "8                  4   1388\n",
      "9                  3   1358\n",
      "10                 2   1220\n",
      "11                 1   1192\n",
      " \n",
      "----------- ESTAMOS ANALIZANDO LA COLUMNA: 'Cancellation Year' -----------\n",
      "\n",
      "Sus valores únicos son:\n",
      " [  nan 2018. 2015. 2017. 2014. 2016. 2013.]\n",
      "Las frecuencias de los valores únicos de las columnas son:\n",
      "    Cancellation Year  count\n",
      "0             2018.0    645\n",
      "1             2017.0    506\n",
      "2             2016.0    427\n",
      "3             2015.0    265\n",
      "4             2014.0    181\n",
      "5             2013.0     43\n",
      " \n",
      "----------- ESTAMOS ANALIZANDO LA COLUMNA: 'Cancellation Month' -----------\n",
      "\n",
      "Sus valores únicos son:\n",
      " [nan  1. 12.  4.  2.  7. 11.  5.  6. 10.  8.  9.  3.]\n",
      "Las frecuencias de los valores únicos de las columnas son:\n",
      "     Cancellation Month  count\n",
      "0                 12.0    213\n",
      "1                 11.0    212\n",
      "2                  8.0    208\n",
      "3                  7.0    186\n",
      "4                 10.0    180\n",
      "5                  9.0    176\n",
      "6                  6.0    165\n",
      "7                  1.0    155\n",
      "8                  3.0    149\n",
      "9                  5.0    148\n",
      "10                 2.0    139\n",
      "11                 4.0    136\n",
      " \n",
      "----------- ESTAMOS ANALIZANDO LA COLUMNA: 'Country' -----------\n",
      "\n",
      "Sus valores únicos son:\n",
      " ['Canada']\n",
      "Las frecuencias de los valores únicos de las columnas son:\n",
      "   Country  count\n",
      "0  Canada  16737\n",
      " \n",
      "----------- ESTAMOS ANALIZANDO LA COLUMNA: 'Province' -----------\n",
      "\n",
      "Sus valores únicos son:\n",
      " ['Ontario' 'Alberta' 'British Columbia' 'Quebec' 'Yukon' 'New Brunswick'\n",
      " 'Manitoba' 'Nova Scotia' 'Saskatchewan' 'Newfoundland'\n",
      " 'Prince Edward Island']\n",
      "Las frecuencias de los valores únicos de las columnas son:\n",
      "                 Province  count\n",
      "0                Ontario   5404\n",
      "1       British Columbia   4409\n",
      "2                 Quebec   3300\n",
      "3                Alberta    969\n",
      "4               Manitoba    658\n",
      "5          New Brunswick    636\n",
      "6            Nova Scotia    518\n",
      "7           Saskatchewan    409\n",
      "8           Newfoundland    258\n",
      "9                  Yukon    110\n",
      "10  Prince Edward Island     66\n",
      " \n",
      "----------- ESTAMOS ANALIZANDO LA COLUMNA: 'City' -----------\n",
      "\n",
      "Sus valores únicos son:\n",
      " ['Toronto' 'Edmonton' 'Vancouver' 'Hull' 'Whitehorse' 'Trenton' 'Montreal'\n",
      " 'Dawson Creek' 'Quebec City' 'Fredericton' 'Ottawa' 'Tremblant' 'Calgary'\n",
      " 'Thunder Bay' 'Whistler' 'Peace River' 'Winnipeg' 'Sudbury'\n",
      " 'West Vancouver' 'Halifax' 'London' 'Regina' 'Kelowna' \"St. John's\"\n",
      " 'Victoria' 'Kingston' 'Banff' 'Moncton' 'Charlottetown']\n",
      "Las frecuencias de los valores únicos de las columnas son:\n",
      "               City  count\n",
      "0          Toronto   3351\n",
      "1        Vancouver   2582\n",
      "2         Montreal   2059\n",
      "3         Winnipeg    658\n",
      "4         Whistler    582\n",
      "5          Halifax    518\n",
      "6           Ottawa    509\n",
      "7          Trenton    486\n",
      "8         Edmonton    486\n",
      "9      Quebec City    485\n",
      "10    Dawson Creek    444\n",
      "11     Fredericton    425\n",
      "12          Regina    409\n",
      "13        Kingston    401\n",
      "14       Tremblant    398\n",
      "15        Victoria    389\n",
      "16            Hull    358\n",
      "17  West Vancouver    324\n",
      "18      St. John's    258\n",
      "19     Thunder Bay    256\n",
      "20         Sudbury    227\n",
      "21         Moncton    211\n",
      "22         Calgary    191\n",
      "23           Banff    179\n",
      "24          London    174\n",
      "25     Peace River    113\n",
      "26      Whitehorse    110\n",
      "27         Kelowna     88\n",
      "28   Charlottetown     66\n",
      " \n",
      "----------- ESTAMOS ANALIZANDO LA COLUMNA: 'Postal Code' -----------\n",
      "\n",
      "Sus valores únicos son:\n",
      " ['M2Z 4K1' 'T3G 6Y6' 'V6E 3D9' 'P1W 1K4' 'J8Y 3Z5' 'Y2K 6R0' 'P5S 6R4'\n",
      " 'K8V 4B2' 'H2Y 2W2' 'M8Y 4K8' 'U5I 4F1' 'G1B 3L5' 'H4G 3T4' 'M2M 7K8'\n",
      " 'M2M 6J7' 'E3B 2H2' 'M1R 4K3' 'T9G 1W3' 'H2Y 4R4' 'V5R 1W3' 'P1L 8X8'\n",
      " 'K1F 2R2' 'H5Y 2S9' 'V1E 4R6' 'H2T 2J6' 'T3E 2V9' 'H2T 9K8' 'K8T 5M5'\n",
      " 'V6T 1Y8' 'P2T 6G3' 'T9O 2W2' 'V6E 3Z3' 'R6Y 4T5' 'M5V 1G5' 'V6V 8Z3'\n",
      " 'B3J 9S2' 'M5B 3E4' 'R2C 0M5' 'S6J 3G0' 'M2P 4F6' 'P1J 8T7' 'V09 2E9'\n",
      " 'A1C 6H9' 'V10 6T5' 'B3C 2M8' 'M9K 2P4' 'T4V 1D4' 'R3R 3T4' 'S1J 3C5'\n",
      " 'E1A 2A7' 'K1G 4Z0' 'H3T 8L4' 'C1A 6E8' 'H3J 5I6' 'M3R 4K8']\n",
      "Las frecuencias de los valores únicos de las columnas son:\n",
      "    Postal Code  count\n",
      "0      V6E 3D9    911\n",
      "1      V5R 1W3    684\n",
      "2      V6T 1Y8    582\n",
      "3      V6E 3Z3    544\n",
      "4      M2M 7K8    534\n",
      "5      P1J 8T7    500\n",
      "6      H2T 9K8    499\n",
      "7      K8V 4B2    486\n",
      "8      G1B 3L5    485\n",
      "9      H2T 2J6    446\n",
      "10     U5I 4F1    444\n",
      "11     V1E 4R6    443\n",
      "12     E3B 2H2    425\n",
      "13     R2C 0M5    415\n",
      "14     M9K 2P4    401\n",
      "15     H5Y 2S9    398\n",
      "16     V10 6T5    389\n",
      "17     K1F 2R2    389\n",
      "18     H2Y 2W2    365\n",
      "19     J8Y 3Z5    358\n",
      "20     M8Y 4K8    340\n",
      "21     H4G 3T4    338\n",
      "22     B3J 9S2    329\n",
      "23     V6V 8Z3    324\n",
      "24     P2T 6G3    322\n",
      "25     H2Y 4R4    315\n",
      "26     M1R 4K3    313\n",
      "27     P1L 8X8    282\n",
      "28     P1W 1K4    275\n",
      "29     T9G 1W3    266\n",
      "30     A1C 6H9    258\n",
      "31     M2Z 4K1    257\n",
      "32     K8T 5M5    256\n",
      "33     P5S 6R4    246\n",
      "34     M5V 1G5    227\n",
      "35     S6J 3G0    226\n",
      "36     T3G 6Y6    220\n",
      "37     E1A 2A7    211\n",
      "38     T3E 2V9    191\n",
      "39     B3C 2M8    189\n",
      "40     S1J 3C5    183\n",
      "41     T4V 1D4    179\n",
      "42     M5B 3E4    174\n",
      "43     M2M 6J7    153\n",
      "44     R6Y 4T5    143\n",
      "45     M2P 4F6    126\n",
      "46     K1G 4Z0    120\n",
      "47     T9O 2W2    113\n",
      "48     Y2K 6R0    110\n",
      "49     R3R 3T4    100\n",
      "50     H3T 8L4     89\n",
      "51     V09 2E9     88\n",
      "52     C1A 6E8     66\n",
      "53     H3J 5I6      7\n",
      "54     M3R 4K8      3\n",
      " \n",
      "----------- ESTAMOS ANALIZANDO LA COLUMNA: 'Gender' -----------\n",
      "\n",
      "Sus valores únicos son:\n",
      " ['Female' 'Male']\n",
      "Las frecuencias de los valores únicos de las columnas son:\n",
      "    Gender  count\n",
      "0  Female   8410\n",
      "1    Male   8327\n",
      " \n",
      "----------- ESTAMOS ANALIZANDO LA COLUMNA: 'Education' -----------\n",
      "\n",
      "Sus valores únicos son:\n",
      " ['Bachelor' 'College' 'Master' 'High School or Below' 'Doctor']\n",
      "Las frecuencias de los valores únicos de las columnas son:\n",
      "               Education  count\n",
      "0              Bachelor  10475\n",
      "1               College   4238\n",
      "2  High School or Below    782\n",
      "3                Doctor    734\n",
      "4                Master    508\n",
      " \n",
      "----------- ESTAMOS ANALIZANDO LA COLUMNA: 'Marital Status' -----------\n",
      "\n",
      "Sus valores únicos son:\n",
      " ['Married' 'Divorced' 'Single']\n",
      "Las frecuencias de los valores únicos de las columnas son:\n",
      "   Marital Status  count\n",
      "0        Married   9735\n",
      "1         Single   4484\n",
      "2       Divorced   2518\n",
      " \n",
      "----------- ESTAMOS ANALIZANDO LA COLUMNA: 'Loyalty Card' -----------\n",
      "\n",
      "Sus valores únicos son:\n",
      " ['Star' 'Aurora' 'Nova']\n",
      "Las frecuencias de los valores únicos de las columnas son:\n",
      "   Loyalty Card  count\n",
      "0         Star   7637\n",
      "1         Nova   5671\n",
      "2       Aurora   3429\n",
      " \n",
      "----------- ESTAMOS ANALIZANDO LA COLUMNA: 'Enrollment Type' -----------\n",
      "\n",
      "Sus valores únicos son:\n",
      " ['Standard' '2018 Promotion']\n",
      "Las frecuencias de los valores únicos de las columnas son:\n",
      "   Enrollment Type  count\n",
      "0        Standard  15766\n",
      "1  2018 Promotion    971\n"
     ]
    }
   ],
   "source": [
    "# Identifico valores únicos y de frecuencia en df_fidelidad_marca\n",
    "# Analizo tanto variables categóricas como numéricas.\n",
    "\n",
    "def mostrar_valores_frecuencias(df, select_dtypes=None, index_column=None):# select_types nos permite elegir el tipo de datos que queremos obtener de las columnas\n",
    "    columnas = df_fidelidad_marca.select_dtypes(include=select_dtypes).columns # Creamos variable donde asignamos la posibilidad de elegir el tipo de dato.\n",
    "    for columna in columnas: # itera por cada columna del dataframe\n",
    "        print(f\" \\n----------- ESTAMOS ANALIZANDO LA COLUMNA: '{columna}' -----------\\n\") \n",
    "        print(f'Sus valores únicos son:\\n {df_fidelidad_marca[columna].unique()}') # Devuelve los valores únicos\n",
    "        print(f'Las frecuencias de los valores únicos de las columnas son:\\n {df_fidelidad_marca[columna].value_counts().reset_index()}') # Cuenta la frecuencia de valores únicos de una columna\n",
    "\n",
    "mostrar_valores_frecuencias(df_fidelidad_marca, select_dtypes=['int64','float'])\n",
    "mostrar_valores_frecuencias(df_fidelidad_marca, select_dtypes= object) # Elegimos object si queremos columnas con variables numéricas."
   ]
  },
  {
   "cell_type": "markdown",
   "metadata": {},
   "source": [
    "-------------------\n",
    "- Comentarios que considero destacables en este análisis de valores únicos y frecuencias:\n",
    "    - Salary tiene valores negativos. Luego pasaré a analizar este campo para saber cuántos valores negativos hay. \n",
    "    - Los años que se registran van del 2012 - 2018\n",
    "    \n",
    "\n",
    "-------------------\n"
   ]
  },
  {
   "cell_type": "markdown",
   "metadata": {},
   "source": [
    "### Conclusiones de este primer análisis:\n"
   ]
  },
  {
   "cell_type": "markdown",
   "metadata": {},
   "source": [
    "#### df_fidelidad_marca\n",
    "- Tenemos valores nulos en el df_fidelidad_marca.  \n",
    "    - Los valores nulos están en variables numéricas.\n",
    "        - Las columnas son: Salary, Cancellation Year, Cancellation Month.\n",
    "            - Salary tiene valores negativos.\n",
    "            - Cancellation Year y Month, puede deberse a que cliente sigue inscrito en el programa de lealtad\n",
    "- Los campos relacionados con fecha como Year o Month, en las estadísticas básicas vemos que son tipo float. \n",
    "- Contiene tanto variables numéricas como categóricas.\n",
    "\n",
    "\n",
    "#### df_vuelos\n",
    "- Hay registros duplicados en el df_vuelos. \n",
    "- Todas sus variables son numéricas\n",
    "\n",
    "#### Otras consideraciones\n",
    "- Campo común entre ambos Dataframes es: Loyalty Number. \n",
    "- El nombre de las columnas están homogeneizadas.\n",
    "- No considero necesario, de momento, cambiar a minúsculas y reemplazar espacios por guiones bajos. Lo iré valorando a lo largo del análisis.\n",
    "\n",
    "Teniendo en cuenta que los valores nulos y los duplicados se encuentran cada uno en un archivo, haré una limpieza antes de la unión, y, \n",
    "tras la unión volveré a revisar si es necesario una nueva limpieza.\n"
   ]
  },
  {
   "cell_type": "markdown",
   "metadata": {},
   "source": [
    "---------------------"
   ]
  },
  {
   "cell_type": "markdown",
   "metadata": {},
   "source": [
    "#### Limpieza de datos"
   ]
  },
  {
   "cell_type": "markdown",
   "metadata": {},
   "source": [
    "- Teniendo en cuenta el análisis exploratorio de los datos, ahora voy a:\n",
    "    - Gestionar los nulos\n",
    "    - Gestionar los duplicados\n",
    "    - Cambiar tipos de datos. Lo hago después porque será cambiar de float a integer. El cambio no afecta, en este caso, en la gestión de los nulos.\n",
    "- Hago copia de los dataframes después de la unión.\n",
    "     "
   ]
  },
  {
   "cell_type": "markdown",
   "metadata": {},
   "source": [
    "#### Gestión de nulos"
   ]
  },
  {
   "cell_type": "markdown",
   "metadata": {},
   "source": [
    "En la gestión de nulos tendré en cuenta:\n",
    "    - Recuerdo los nulos que había en el dataframe\n",
    "    - Visualizo en una lista las variable numéricas con nulos\n",
    "    - Analizo el porcentaje de nulos que hay\n",
    "    - Visualizo los valores únicos de cada columna para conocer su distribución.\n",
    "    \n"
   ]
  },
  {
   "cell_type": "code",
   "execution_count": 57,
   "metadata": {},
   "outputs": [
    {
     "name": "stdout",
     "output_type": "stream",
     "text": [
      "\n",
      "Valores nulos en df_fidelidad_marca:\n",
      "Loyalty Number            0\n",
      "Country                   0\n",
      "Province                  0\n",
      "City                      0\n",
      "Postal Code               0\n",
      "Gender                    0\n",
      "Education                 0\n",
      "Salary                 4238\n",
      "Marital Status            0\n",
      "Loyalty Card              0\n",
      "CLV                       0\n",
      "Enrollment Type           0\n",
      "Enrollment Year           0\n",
      "Enrollment Month          0\n",
      "Cancellation Year     14670\n",
      "Cancellation Month    14670\n",
      "dtype: int64\n"
     ]
    }
   ],
   "source": [
    "# Recuerdo los nulos que había en el dataframe\n",
    "\n",
    "print(\"\\nValores nulos en df_fidelidad_marca:\") \n",
    "nulos_fidelidad_marca = df_fidelidad_marca.isnull().sum() # nulos_fidelidad_marca es la variable donde guardo los nulos\n",
    "print(df_fidelidad_marca.isnull().sum())"
   ]
  },
  {
   "cell_type": "code",
   "execution_count": 58,
   "metadata": {},
   "outputs": [
    {
     "name": "stdout",
     "output_type": "stream",
     "text": [
      "Las columnas numéricas que tienen nulos son : \n",
      " \n",
      "Index(['Salary', 'Cancellation Year', 'Cancellation Month'], dtype='object')\n"
     ]
    }
   ],
   "source": [
    "# Obtenemos la lista de columnas numéricas que tienen nulos\n",
    "nulos_fidelidad_marca = df_fidelidad_marca[df_fidelidad_marca.columns[df_fidelidad_marca.isnull().any()]].select_dtypes(include = np.number).columns\n",
    "print(\"Las columnas numéricas que tienen nulos son : \\n \")\n",
    "print(nulos_fidelidad_marca)"
   ]
  },
  {
   "cell_type": "code",
   "execution_count": 59,
   "metadata": {},
   "outputs": [
    {
     "data": {
      "text/plain": [
       "dtype('float64')"
      ]
     },
     "execution_count": 59,
     "metadata": {},
     "output_type": "execute_result"
    }
   ],
   "source": [
    "df_fidelidad_marca['Salary'].dtype"
   ]
  },
  {
   "cell_type": "code",
   "execution_count": 60,
   "metadata": {},
   "outputs": [
    {
     "data": {
      "text/plain": [
       "Salary                0.253211\n",
       "Cancellation Year     0.876501\n",
       "Cancellation Month    0.876501\n",
       "dtype: float64"
      ]
     },
     "execution_count": 60,
     "metadata": {},
     "output_type": "execute_result"
    }
   ],
   "source": [
    "df_fidelidad_marca[['Salary', 'Cancellation Year', 'Cancellation Month']].isnull().sum() / df_fidelidad_marca.shape[0]"
   ]
  },
  {
   "cell_type": "code",
   "execution_count": 61,
   "metadata": {},
   "outputs": [],
   "source": [
    "# Aquí observo que el porcentaje de nulos es elevado en todos los casos por lo que imputaremos los nulos con técnicas avanzadas. "
   ]
  },
  {
   "cell_type": "markdown",
   "metadata": {},
   "source": [
    "#### Visualizo a través de gráficos cómo es su distribución para luego decidir que tipo de técnica avanzada aplicar. "
   ]
  },
  {
   "cell_type": "code",
   "execution_count": 62,
   "metadata": {},
   "outputs": [
    {
     "data": {
      "image/png": "[encoded data removed]",
      "text/plain": [
       "<Figure size 1500x1000 with 3 Axes>"
      ]
     },
     "metadata": {},
     "output_type": "display_data"
    }
   ],
   "source": [
    "# 1. # Quiero conocer si hay valores atípicos. Para ello uso el gráfico de boxplot y para ver las tres columnas, el método plt.sublots\n",
    "\n",
    "fig, axes = plt.subplots(nrows = 4, ncols = 1, figsize = (15,10)) \n",
    "\n",
    "axes = axes.flat # . flat Facilita la iteración entre gráficos.\n",
    "\n",
    "for indice, col in enumerate(nulos_fidelidad_marca):\n",
    "    sns.boxplot(x = col, data = df_fidelidad_marca, ax = axes[indice])\n",
    "    \n",
    "plt.tight_layout() # Evita que se superpongan los gráficos\n",
    "fig.delaxes(axes[-1])"
   ]
  },
  {
   "cell_type": "markdown",
   "metadata": {},
   "source": [
    "--------------------------"
   ]
  },
  {
   "cell_type": "markdown",
   "metadata": {},
   "source": [
    "Columnas 'Cancellation Year' y 'Cancellation Month' \n",
    "- No hay valores atípicos. \n",
    "- Por otra parte, el que haya valores nulos puede ser debido a que los clientes sigan estando de alta en el programa de fidelidad.\n",
    "- El método de imputación lo haré con un fullna(), reemplazando los valores nulos por 0, ya que indican que aún no hay fecha de cancelación."
   ]
  },
  {
   "cell_type": "markdown",
   "metadata": {},
   "source": [
    "Columna 'Salary'\n",
    "- Hay una gran cantidad de valores atípicos. \n",
    "- Hay valores negativos.\n",
    "- Hay una gran cantidad de valores positivos atípicos. \n",
    "\n",
    "Con esta información, pasaré a analizar cómo gestionar la imputación ya que el porcentaje de nulos es alto. Para ello analizaré los valores que hay en la columna. "
   ]
  },
  {
   "cell_type": "markdown",
   "metadata": {},
   "source": [
    "--------------------------"
   ]
  },
  {
   "cell_type": "markdown",
   "metadata": {},
   "source": [
    "### Gestión nulos - columna 'Cancellation Year' y 'Cancellation Month'"
   ]
  },
  {
   "cell_type": "code",
   "execution_count": 63,
   "metadata": {},
   "outputs": [
    {
     "name": "stdout",
     "output_type": "stream",
     "text": [
      "Relleno los valores nulos de las columnas 'Cancellation Year' y 'Cancellation Month' con 0\n"
     ]
    },
    {
     "data": {
      "text/plain": [
       "Loyalty Number           0\n",
       "Country                  0\n",
       "Province                 0\n",
       "City                     0\n",
       "Postal Code              0\n",
       "Gender                   0\n",
       "Education                0\n",
       "Salary                4238\n",
       "Marital Status           0\n",
       "Loyalty Card             0\n",
       "CLV                      0\n",
       "Enrollment Type          0\n",
       "Enrollment Year          0\n",
       "Enrollment Month         0\n",
       "Cancellation Year        0\n",
       "Cancellation Month       0\n",
       "dtype: int64"
      ]
     },
     "execution_count": 63,
     "metadata": {},
     "output_type": "execute_result"
    }
   ],
   "source": [
    "# Relleno los valores nulos de las columnas 'Cancellation Year' y 'Cancellation Month' con 0\n",
    "print(\"Relleno los valores nulos de las columnas 'Cancellation Year' y 'Cancellation Month' con 0\") \n",
    "df_fidelidad_marca['Cancellation Year'] = df_fidelidad_marca['Cancellation Year'].fillna(0) \n",
    "df_fidelidad_marca['Cancellation Month'] = df_fidelidad_marca['Cancellation Month'].fillna(0)\n",
    "\n",
    "df_fidelidad_marca.isnull().sum()"
   ]
  },
  {
   "cell_type": "markdown",
   "metadata": {},
   "source": [
    "### Gestión nulos - negativos de la columna Salary"
   ]
  },
  {
   "cell_type": "code",
   "execution_count": 64,
   "metadata": {},
   "outputs": [
    {
     "data": {
      "text/html": [
       "<div>\n",
       "<style scoped>\n",
       "    .dataframe tbody tr th:only-of-type {\n",
       "        vertical-align: middle;\n",
       "    }\n",
       "\n",
       "    .dataframe tbody tr th {\n",
       "        vertical-align: top;\n",
       "    }\n",
       "\n",
       "    .dataframe thead th {\n",
       "        text-align: right;\n",
       "    }\n",
       "</style>\n",
       "<table border=\"1\" class=\"dataframe\">\n",
       "  <thead>\n",
       "    <tr style=\"text-align: right;\">\n",
       "      <th></th>\n",
       "      <th>index</th>\n",
       "      <th>Salary</th>\n",
       "    </tr>\n",
       "  </thead>\n",
       "  <tbody>\n",
       "    <tr>\n",
       "      <th>0</th>\n",
       "      <td>count</td>\n",
       "      <td>12499.0</td>\n",
       "    </tr>\n",
       "    <tr>\n",
       "      <th>1</th>\n",
       "      <td>mean</td>\n",
       "      <td>79246.0</td>\n",
       "    </tr>\n",
       "    <tr>\n",
       "      <th>2</th>\n",
       "      <td>std</td>\n",
       "      <td>35008.0</td>\n",
       "    </tr>\n",
       "    <tr>\n",
       "      <th>3</th>\n",
       "      <td>min</td>\n",
       "      <td>-58486.0</td>\n",
       "    </tr>\n",
       "    <tr>\n",
       "      <th>4</th>\n",
       "      <td>25%</td>\n",
       "      <td>59246.0</td>\n",
       "    </tr>\n",
       "    <tr>\n",
       "      <th>5</th>\n",
       "      <td>50%</td>\n",
       "      <td>73455.0</td>\n",
       "    </tr>\n",
       "    <tr>\n",
       "      <th>6</th>\n",
       "      <td>75%</td>\n",
       "      <td>88518.0</td>\n",
       "    </tr>\n",
       "    <tr>\n",
       "      <th>7</th>\n",
       "      <td>max</td>\n",
       "      <td>407228.0</td>\n",
       "    </tr>\n",
       "  </tbody>\n",
       "</table>\n",
       "</div>"
      ],
      "text/plain": [
       "   index    Salary\n",
       "0  count   12499.0\n",
       "1   mean   79246.0\n",
       "2    std   35008.0\n",
       "3    min  -58486.0\n",
       "4    25%   59246.0\n",
       "5    50%   73455.0\n",
       "6    75%   88518.0\n",
       "7    max  407228.0"
      ]
     },
     "execution_count": 64,
     "metadata": {},
     "output_type": "execute_result"
    }
   ],
   "source": [
    "# Ya había analizado que en la columna 'Salary' hay valores negativos. Por lo que paso a analizar cómo gestionarlos. \n",
    "# Para ello empiezo mirando sus estadísticas. \n",
    "df_fidelidad_marca['Salary'].describe().T.reset_index().round()"
   ]
  },
  {
   "cell_type": "code",
   "execution_count": 65,
   "metadata": {},
   "outputs": [
    {
     "name": "stdout",
     "output_type": "stream",
     "text": [
      "El porcentaje de resultados negativos es: 0.11949572802772301%\n"
     ]
    }
   ],
   "source": [
    "# Para comprender por qué están estos datos, es importante saber qué porcentaje hay. \n",
    "# Si es bajo, puede ser un error aislado y/o tipográfico; o si es alto, hay que verificar si hay un problema sistemático en la recopilación de datos.\n",
    "\n",
    "# Para conocer el porcentaje, sumo todos los valores negativos y los divido por el total de registros de la columna.  \n",
    "print(f'El porcentaje de resultados negativos es: {(df_fidelidad_marca['Salary'] < 0).sum()*100 / df_fidelidad_marca.shape[0]}%')"
   ]
  },
  {
   "cell_type": "code",
   "execution_count": 66,
   "metadata": {},
   "outputs": [],
   "source": [
    "# El porcentaje es bajo por lo que es muy posible que de trate de un error tipográfico.\n",
    "# Teniendo en cuenta que es un valor importante dentro del análisis, decido cambiar estos valores a positivos como valores absolutos. "
   ]
  },
  {
   "cell_type": "code",
   "execution_count": 67,
   "metadata": {},
   "outputs": [],
   "source": [
    "# Convertir valores negativos a positivos\n",
    "df_fidelidad_marca['Salary'] = df_fidelidad_marca['Salary'].abs()"
   ]
  },
  {
   "cell_type": "code",
   "execution_count": 68,
   "metadata": {},
   "outputs": [
    {
     "data": {
      "text/plain": [
       "count    12499.0\n",
       "mean     79359.0\n",
       "std      34750.0\n",
       "min       9081.0\n",
       "25%      59246.0\n",
       "Name: Salary, dtype: float64"
      ]
     },
     "execution_count": 68,
     "metadata": {},
     "output_type": "execute_result"
    }
   ],
   "source": [
    "# Estadísticas descriptivas\n",
    "df_fidelidad_marca['Salary'].describe().T.head().round()\n"
   ]
  },
  {
   "cell_type": "code",
   "execution_count": 69,
   "metadata": {},
   "outputs": [
    {
     "name": "stdout",
     "output_type": "stream",
     "text": [
      "El porcentaje de resultados negativos es: 0.0%\n"
     ]
    }
   ],
   "source": [
    "# Compruebo el porcentaje de valores negativos\n",
    "print(f'El porcentaje de resultados negativos es: {(df_fidelidad_marca['Salary'] < 0).sum()*100 / df_fidelidad_marca.shape[0]}%')"
   ]
  },
  {
   "cell_type": "code",
   "execution_count": 70,
   "metadata": {},
   "outputs": [
    {
     "data": {
      "text/plain": [
       "Loyalty Number           0\n",
       "Country                  0\n",
       "Province                 0\n",
       "City                     0\n",
       "Postal Code              0\n",
       "Gender                   0\n",
       "Education                0\n",
       "Salary                4238\n",
       "Marital Status           0\n",
       "Loyalty Card             0\n",
       "CLV                      0\n",
       "Enrollment Type          0\n",
       "Enrollment Year          0\n",
       "Enrollment Month         0\n",
       "Cancellation Year        0\n",
       "Cancellation Month       0\n",
       "dtype: int64"
      ]
     },
     "execution_count": 70,
     "metadata": {},
     "output_type": "execute_result"
    }
   ],
   "source": [
    "# A continuación pasamos a gestionar los nulos que hay que la columna 'Salary'\n",
    "\n",
    "df_fidelidad_marca.isnull().sum()"
   ]
  },
  {
   "cell_type": "code",
   "execution_count": 71,
   "metadata": {},
   "outputs": [
    {
     "data": {
      "text/plain": [
       "mean    79359.0\n",
       "50%     73455.0\n",
       "Name: Salary, dtype: float64"
      ]
     },
     "execution_count": 71,
     "metadata": {},
     "output_type": "execute_result"
    }
   ],
   "source": [
    "# Intento saber si hay mucha diferencia entre aplicar la media o la mediana para decidir qué tipo de imputación hacer. Aunque sé que hay valores atípicos\n",
    "df_fidelidad_marca['Salary'].describe()[[\"mean\", \"50%\"]].round()"
   ]
  },
  {
   "cell_type": "code",
   "execution_count": 72,
   "metadata": {},
   "outputs": [
    {
     "name": "stdout",
     "output_type": "stream",
     "text": [
      "La media de la edad de los clientes es: 79359.34\n",
      "La mediana de la edad de los clientes es: 73455.0\n"
     ]
    },
    {
     "data": {
      "image/png": "[encoded data removed]",
      "text/plain": [
       "<Figure size 1000x600 with 1 Axes>"
      ]
     },
     "metadata": {},
     "output_type": "display_data"
    }
   ],
   "source": [
    "# Visualizo a través de gráfica el resultado\n",
    "\n",
    "media_salario = df_fidelidad_marca['Salary'].mean()\n",
    "print(f\"La media de la edad de los clientes es: {np.round(media_salario, 2)}\")\n",
    "\n",
    "mediana_salario = df_fidelidad_marca['Salary'].median()\n",
    "print(f\"La mediana de la edad de los clientes es: {np.round(mediana_salario, 2)}\")\n",
    "\n",
    "\n",
    "plt.figure(figsize=(10, 6))\n",
    "sns.boxplot(x=df_fidelidad_marca['Salary'])\n",
    "\n",
    "# Dibujar líneas para la media, mediana y moda\n",
    "plt.axvline(media_salario, color='red', linestyle='dashed', linewidth=2, label=f'Media: {media_salario}')\n",
    "plt.axvline(mediana_salario, color='green', linestyle='dashed', linewidth=2, label=f'Mediana: {mediana_salario}')\n",
    "\n",
    "# Añadir leyenda y título\n",
    "plt.legend()\n",
    "plt.title('Boxplot con Media, Mediana y Moda')\n",
    "\n",
    "# Mostrar el gráfico\n",
    "plt.show()"
   ]
  },
  {
   "cell_type": "markdown",
   "metadata": {},
   "source": [
    "### Conclusiones tras ver la gráfica\n",
    "\n",
    "1. **Valores Atípicos**: La gráfica de boxplot muestra que hay valores atípicos en la columna 'Salary'. Estos valores atípicos pueden influir en la media y la mediana de los datos.\n",
    "\n",
    "2. **Valores Negativos**: Inicialmente, había valores negativos en la columna 'Salary', pero estos se han convertido a valores absolutos, eliminando así los valores negativos.\n",
    "\n",
    "3. **Media vs Mediana**: La media y la mediana de los salarios son bastante similares, lo que indica que la distribución de los salarios es relativamente simétrica, a pesar de la presencia de valores atípicos, podría usar SimpleImputer usando la mediana. Pero en este caso voy a probar con una técnica más precisa para gestionar los nulos.\n",
    "\n",
    "4. **Imputación de Nulos**: Para el paso de imputación voy a aplicar la técnica Imputer Interative ya que me dará una solución más precisa y robusta. \n"
   ]
  },
  {
   "cell_type": "markdown",
   "metadata": {},
   "source": [
    "#### Pruebas de técnicas avanzadas para elegir la más precisa a la hora de gestionar los nulos."
   ]
  },
  {
   "cell_type": "code",
   "execution_count": 73,
   "metadata": {},
   "outputs": [],
   "source": [
    "# Saber si hay una relación significativa entre las variables con valores nulos, me ayudará a decidir si aplicar o no otras técnicas avanzadas.\n",
    "# Para ello creo una tabla de correlación"
   ]
  },
  {
   "cell_type": "code",
   "execution_count": 74,
   "metadata": {},
   "outputs": [
    {
     "data": {
      "image/png": "[encoded data removed]",
      "text/plain": [
       "<Figure size 640x480 with 2 Axes>"
      ]
     },
     "metadata": {},
     "output_type": "display_data"
    },
    {
     "data": {
      "text/html": [
       "<div>\n",
       "<style scoped>\n",
       "    .dataframe tbody tr th:only-of-type {\n",
       "        vertical-align: middle;\n",
       "    }\n",
       "\n",
       "    .dataframe tbody tr th {\n",
       "        vertical-align: top;\n",
       "    }\n",
       "\n",
       "    .dataframe thead th {\n",
       "        text-align: right;\n",
       "    }\n",
       "</style>\n",
       "<table border=\"1\" class=\"dataframe\">\n",
       "  <thead>\n",
       "    <tr style=\"text-align: right;\">\n",
       "      <th></th>\n",
       "      <th>Salary</th>\n",
       "      <th>Cancellation Year</th>\n",
       "      <th>Cancellation Month</th>\n",
       "    </tr>\n",
       "  </thead>\n",
       "  <tbody>\n",
       "    <tr>\n",
       "      <th>Salary</th>\n",
       "      <td>1.000000</td>\n",
       "      <td>-0.994194</td>\n",
       "      <td>-0.994467</td>\n",
       "    </tr>\n",
       "    <tr>\n",
       "      <th>Cancellation Year</th>\n",
       "      <td>-0.994194</td>\n",
       "      <td>1.000000</td>\n",
       "      <td>0.977390</td>\n",
       "    </tr>\n",
       "    <tr>\n",
       "      <th>Cancellation Month</th>\n",
       "      <td>-0.994467</td>\n",
       "      <td>0.977390</td>\n",
       "      <td>1.000000</td>\n",
       "    </tr>\n",
       "  </tbody>\n",
       "</table>\n",
       "</div>"
      ],
      "text/plain": [
       "                      Salary  Cancellation Year  Cancellation Month\n",
       "Salary              1.000000          -0.994194           -0.994467\n",
       "Cancellation Year  -0.994194           1.000000            0.977390\n",
       "Cancellation Month -0.994467           0.977390            1.000000"
      ]
     },
     "execution_count": 74,
     "metadata": {},
     "output_type": "execute_result"
    }
   ],
   "source": [
    "# a) Seleccionamos las columnas relevantes. Para ello creamos un nuevo DataFrame con las columnas o campos que nos interesan\n",
    "df_columnas_relevantes = df_fidelidad_marca[['Salary', 'Cancellation Year', 'Cancellation Month']].corr()\n",
    "\n",
    "# b) Creamos la tabla de correlación\n",
    "matrix_de_correlacion = df_columnas_relevantes.corr()\n",
    "\n",
    "# c) Elegimos el método para visualizar la tabla de correlación como un heatmap\n",
    "sns.heatmap(matrix_de_correlacion, annot=True, cmap=\"coolwarm\", fmt=\".2f\", linewidths=0.5)\n",
    "plt.title(\"Tabla de Correlación entre Variables\")\n",
    "plt.show()\n",
    "\n",
    "# Mostrar la tabla de correlación para interpretación\n",
    "matrix_de_correlacion"
   ]
  },
  {
   "cell_type": "markdown",
   "metadata": {},
   "source": [
    "- Conclusión:\n",
    "    - Existe una correlación débil entre las variables, por lo que decido no aplicar otras técnicas de gestión de nulos, ya que la imputación podría no ser efectiva y alterar los resultados del resto de análisis.\n",
    "\n",
    "    - Aplico técnica de imputación SimpleImputer"
   ]
  },
  {
   "cell_type": "markdown",
   "metadata": {},
   "source": [
    "**Simple Imputer**"
   ]
  },
  {
   "cell_type": "code",
   "execution_count": 75,
   "metadata": {},
   "outputs": [
    {
     "data": {
      "text/plain": [
       "array([[83236.],\n",
       "       [73455.],\n",
       "       [73455.],\n",
       "       ...,\n",
       "       [73455.],\n",
       "       [57297.],\n",
       "       [75049.]])"
      ]
     },
     "execution_count": 75,
     "metadata": {},
     "output_type": "execute_result"
    }
   ],
   "source": [
    "# creo el objeto de la clase del SimpleImputer, usando la mediana directamente debido a los valores atípicos o extremos\n",
    "imputer_salario = SimpleImputer(strategy = \"median\")\n",
    "\n",
    "# ajustamos y transformamos los datos. 📌 Fijaos como hemos puesto dos corchetes en el nombre de la columna\n",
    "salario_imputado = imputer_salario.fit_transform(df_fidelidad_marca[[\"Salary\"]])\n",
    "\n",
    "# comprobamos que es lo que nos devuelve este método. Nos devuelve un array. \n",
    "salario_imputado"
   ]
  },
  {
   "cell_type": "code",
   "execution_count": 76,
   "metadata": {},
   "outputs": [
    {
     "name": "stdout",
     "output_type": "stream",
     "text": [
      "Después del 'SimpleImputer' tenemos 0 nulos\n"
     ]
    }
   ],
   "source": [
    "# Lo siguiente que tenemos que hacer es introducir este array en nuestro DataFrame. \n",
    "df_fidelidad_marca[\"Salary\"] = salario_imputado\n",
    "\n",
    "# Por último comprobamos si tenemos nulos. \n",
    "print(f\"Después del 'SimpleImputer' tenemos {df_fidelidad_marca['Salary'].isnull().sum()} nulos\")"
   ]
  },
  {
   "cell_type": "code",
   "execution_count": 77,
   "metadata": {},
   "outputs": [
    {
     "data": {
      "text/plain": [
       "Loyalty Number        0\n",
       "Country               0\n",
       "Province              0\n",
       "City                  0\n",
       "Postal Code           0\n",
       "Gender                0\n",
       "Education             0\n",
       "Salary                0\n",
       "Marital Status        0\n",
       "Loyalty Card          0\n",
       "CLV                   0\n",
       "Enrollment Type       0\n",
       "Enrollment Year       0\n",
       "Enrollment Month      0\n",
       "Cancellation Year     0\n",
       "Cancellation Month    0\n",
       "dtype: int64"
      ]
     },
     "execution_count": 77,
     "metadata": {},
     "output_type": "execute_result"
    }
   ],
   "source": [
    "df_fidelidad_marca.isnull().sum()"
   ]
  },
  {
   "cell_type": "markdown",
   "metadata": {},
   "source": [
    "### Gestión de Duplicados"
   ]
  },
  {
   "cell_type": "code",
   "execution_count": 78,
   "metadata": {},
   "outputs": [
    {
     "data": {
      "text/plain": [
       "1864"
      ]
     },
     "execution_count": 78,
     "metadata": {},
     "output_type": "execute_result"
    }
   ],
   "source": [
    "# Recordamos los duplicados en df_vuelos\n",
    "df_vuelos.duplicated().sum()\n"
   ]
  },
  {
   "cell_type": "code",
   "execution_count": 79,
   "metadata": {},
   "outputs": [
    {
     "data": {
      "text/plain": [
       "(3712,\n",
       "      Loyalty Number  Year  Month  Flights Booked  Flights with Companions  \\\n",
       " 41           101902  2017      1               0                        0   \n",
       " 42           101902  2017      1               0                        0   \n",
       " 226          112142  2017      1               0                        0   \n",
       " 227          112142  2017      1               0                        0   \n",
       " 477          126100  2017      1               0                        0   \n",
       " \n",
       "      Total Flights  Distance  Points Accumulated  Points Redeemed  \\\n",
       " 41               0         0                 0.0                0   \n",
       " 42               0         0                 0.0                0   \n",
       " 226              0         0                 0.0                0   \n",
       " 227              0         0                 0.0                0   \n",
       " 477              0         0                 0.0                0   \n",
       " \n",
       "      Dollar Cost Points Redeemed  \n",
       " 41                             0  \n",
       " 42                             0  \n",
       " 226                            0  \n",
       " 227                            0  \n",
       " 477                            0  )"
      ]
     },
     "execution_count": 79,
     "metadata": {},
     "output_type": "execute_result"
    }
   ],
   "source": [
    "# Identificar filas duplicadas considerando todas las columnas\n",
    "duplicados_vuelos = df_vuelos[df_vuelos.duplicated(keep=False)]\n",
    "\n",
    "# Mostrar un resumen de los duplicados encontrados\n",
    "num_duplicados = duplicados_vuelos.shape[0]\n",
    "duplicados_totales = duplicados_vuelos.head()\n",
    "\n",
    "num_duplicados, duplicados_totales"
   ]
  },
  {
   "cell_type": "code",
   "execution_count": 80,
   "metadata": {
    "vscode": {
     "languageId": "ruby"
    }
   },
   "outputs": [
    {
     "data": {
      "text/plain": [
       "(403760, 10)"
      ]
     },
     "execution_count": 80,
     "metadata": {},
     "output_type": "execute_result"
    }
   ],
   "source": [
    "# Se han identificado 3712 filas duplicadas en el conjunto de datos. \n",
    "# Eliminar duplicados manteniendo solo la primera ocurrencia\n",
    "df_vuelos_sin_duplicados = df_vuelos.drop_duplicates(keep='first')\n",
    "\n",
    "# Confirmar el tamaño del DataFrame después de eliminar duplicados\n",
    "df_vuelos_sin_duplicados.shape"
   ]
  },
  {
   "cell_type": "code",
   "execution_count": 81,
   "metadata": {
    "vscode": {
     "languageId": "ruby"
    }
   },
   "outputs": [
    {
     "name": "stdout",
     "output_type": "stream",
     "text": [
      "Número de filas originales: 405624\n",
      "Número de filas después de eliminar duplicados: 403760\n"
     ]
    }
   ],
   "source": [
    "# Verifico después de eliminar los duplicados\n",
    "\n",
    "print(\"Número de filas originales:\", len(df_vuelos))\n",
    "print(\"Número de filas después de eliminar duplicados:\", len(df_vuelos_sin_duplicados))"
   ]
  },
  {
   "cell_type": "code",
   "execution_count": 82,
   "metadata": {
    "vscode": {
     "languageId": "ruby"
    }
   },
   "outputs": [
    {
     "data": {
      "text/html": [
       "<div>\n",
       "<style scoped>\n",
       "    .dataframe tbody tr th:only-of-type {\n",
       "        vertical-align: middle;\n",
       "    }\n",
       "\n",
       "    .dataframe tbody tr th {\n",
       "        vertical-align: top;\n",
       "    }\n",
       "\n",
       "    .dataframe thead th {\n",
       "        text-align: right;\n",
       "    }\n",
       "</style>\n",
       "<table border=\"1\" class=\"dataframe\">\n",
       "  <thead>\n",
       "    <tr style=\"text-align: right;\">\n",
       "      <th></th>\n",
       "      <th>Loyalty Number</th>\n",
       "      <th>Year</th>\n",
       "      <th>Month</th>\n",
       "      <th>Flights Booked</th>\n",
       "      <th>Flights with Companions</th>\n",
       "      <th>Total Flights</th>\n",
       "      <th>Distance</th>\n",
       "      <th>Points Accumulated</th>\n",
       "      <th>Points Redeemed</th>\n",
       "      <th>Dollar Cost Points Redeemed</th>\n",
       "    </tr>\n",
       "  </thead>\n",
       "  <tbody>\n",
       "    <tr>\n",
       "      <th>41</th>\n",
       "      <td>101902</td>\n",
       "      <td>2017</td>\n",
       "      <td>1</td>\n",
       "      <td>0</td>\n",
       "      <td>0</td>\n",
       "      <td>0</td>\n",
       "      <td>0</td>\n",
       "      <td>0.0</td>\n",
       "      <td>0</td>\n",
       "      <td>0</td>\n",
       "    </tr>\n",
       "    <tr>\n",
       "      <th>33843</th>\n",
       "      <td>101902</td>\n",
       "      <td>2017</td>\n",
       "      <td>3</td>\n",
       "      <td>0</td>\n",
       "      <td>0</td>\n",
       "      <td>0</td>\n",
       "      <td>0</td>\n",
       "      <td>0.0</td>\n",
       "      <td>0</td>\n",
       "      <td>0</td>\n",
       "    </tr>\n",
       "    <tr>\n",
       "      <th>16942</th>\n",
       "      <td>101902</td>\n",
       "      <td>2017</td>\n",
       "      <td>2</td>\n",
       "      <td>0</td>\n",
       "      <td>0</td>\n",
       "      <td>0</td>\n",
       "      <td>0</td>\n",
       "      <td>0.0</td>\n",
       "      <td>0</td>\n",
       "      <td>0</td>\n",
       "    </tr>\n",
       "    <tr>\n",
       "      <th>185952</th>\n",
       "      <td>101902</td>\n",
       "      <td>2017</td>\n",
       "      <td>12</td>\n",
       "      <td>0</td>\n",
       "      <td>0</td>\n",
       "      <td>0</td>\n",
       "      <td>0</td>\n",
       "      <td>0.0</td>\n",
       "      <td>0</td>\n",
       "      <td>0</td>\n",
       "    </tr>\n",
       "    <tr>\n",
       "      <th>185953</th>\n",
       "      <td>101902</td>\n",
       "      <td>2017</td>\n",
       "      <td>12</td>\n",
       "      <td>0</td>\n",
       "      <td>0</td>\n",
       "      <td>0</td>\n",
       "      <td>0</td>\n",
       "      <td>0.0</td>\n",
       "      <td>0</td>\n",
       "      <td>0</td>\n",
       "    </tr>\n",
       "  </tbody>\n",
       "</table>\n",
       "</div>"
      ],
      "text/plain": [
       "        Loyalty Number  Year  Month  Flights Booked  Flights with Companions  \\\n",
       "41              101902  2017      1               0                        0   \n",
       "33843           101902  2017      3               0                        0   \n",
       "16942           101902  2017      2               0                        0   \n",
       "185952          101902  2017     12               0                        0   \n",
       "185953          101902  2017     12               0                        0   \n",
       "\n",
       "        Total Flights  Distance  Points Accumulated  Points Redeemed  \\\n",
       "41                  0         0                 0.0                0   \n",
       "33843               0         0                 0.0                0   \n",
       "16942               0         0                 0.0                0   \n",
       "185952              0         0                 0.0                0   \n",
       "185953              0         0                 0.0                0   \n",
       "\n",
       "        Dollar Cost Points Redeemed  \n",
       "41                                0  \n",
       "33843                             0  \n",
       "16942                             0  \n",
       "185952                            0  \n",
       "185953                            0  "
      ]
     },
     "execution_count": 82,
     "metadata": {},
     "output_type": "execute_result"
    }
   ],
   "source": [
    "# Compruebo duplicados de primera ocurrencia en df_vuelos, a través de la columna 'Loyalty Number'.\n",
    "\n",
    "df_vuelos[df_vuelos.duplicated(keep=False)].sort_values('Loyalty Number').head()"
   ]
  },
  {
   "cell_type": "markdown",
   "metadata": {},
   "source": [
    "- Vemos que se mantienen los duplicados de primera ocurrencia, los demás se han eliminado correctamente"
   ]
  },
  {
   "cell_type": "markdown",
   "metadata": {},
   "source": [
    "---------------"
   ]
  },
  {
   "cell_type": "markdown",
   "metadata": {},
   "source": [
    "### Antes de hacer la unión verifico los valores únicos en ambos dataframes"
   ]
  },
  {
   "cell_type": "code",
   "execution_count": 83,
   "metadata": {},
   "outputs": [
    {
     "name": "stdout",
     "output_type": "stream",
     "text": [
      "Valores únicos en df_flight_data: 16737\n",
      "Valores únicos en df_loyalty_history: 16737\n"
     ]
    }
   ],
   "source": [
    "# Contamos los valores únicos de la columna 'Loyalty Number' en cada DataFrame\n",
    "unicos_vuelos = len(df_vuelos['Loyalty Number'].unique())\n",
    "unicos_fidelidad_marca = len(df_fidelidad_marca['Loyalty Number'].unique())\n",
    "\n",
    "# Mostramos los resultados\n",
    "print(f\"Valores únicos en df_flight_data: {unicos_vuelos}\")\n",
    "print(f\"Valores únicos en df_loyalty_history: {unicos_vuelos}\")"
   ]
  },
  {
   "cell_type": "markdown",
   "metadata": {},
   "source": [
    "#### Transformación de datos "
   ]
  },
  {
   "cell_type": "code",
   "execution_count": 95,
   "metadata": {},
   "outputs": [],
   "source": [
    "#convierto las columnas Cancellation Year y Cancellation Month de float a int\n",
    "df_fidelidad_marca[\"Cancellation Year\"] = df_fidelidad_marca[\"Cancellation Year\"].astype('int64')\n",
    "df_fidelidad_marca[\"Cancellation Month\"] = df_fidelidad_marca[\"Cancellation Month\"].astype('int64')"
   ]
  },
  {
   "cell_type": "code",
   "execution_count": 96,
   "metadata": {},
   "outputs": [
    {
     "name": "stdout",
     "output_type": "stream",
     "text": [
      "<class 'pandas.core.frame.DataFrame'>\n",
      "RangeIndex: 16737 entries, 0 to 16736\n",
      "Data columns (total 16 columns):\n",
      " #   Column              Non-Null Count  Dtype  \n",
      "---  ------              --------------  -----  \n",
      " 0   Loyalty Number      16737 non-null  int64  \n",
      " 1   Country             16737 non-null  object \n",
      " 2   Province            16737 non-null  object \n",
      " 3   City                16737 non-null  object \n",
      " 4   Postal Code         16737 non-null  object \n",
      " 5   Gender              16737 non-null  object \n",
      " 6   Education           16737 non-null  object \n",
      " 7   Salary              16737 non-null  float64\n",
      " 8   Marital Status      16737 non-null  object \n",
      " 9   Loyalty Card        16737 non-null  object \n",
      " 10  CLV                 16737 non-null  float64\n",
      " 11  Enrollment Type     16737 non-null  object \n",
      " 12  Enrollment Year     16737 non-null  int64  \n",
      " 13  Enrollment Month    16737 non-null  int64  \n",
      " 14  Cancellation Year   16737 non-null  int64  \n",
      " 15  Cancellation Month  16737 non-null  int64  \n",
      "dtypes: float64(2), int64(5), object(9)\n",
      "memory usage: 2.0+ MB\n"
     ]
    }
   ],
   "source": [
    "# Compruebo el cambio\n",
    "\n",
    "df_fidelidad_marca.info()"
   ]
  },
  {
   "cell_type": "markdown",
   "metadata": {},
   "source": [
    "## Unión de dataframes"
   ]
  },
  {
   "cell_type": "code",
   "execution_count": 99,
   "metadata": {},
   "outputs": [
    {
     "data": {
      "text/html": [
       "<div>\n",
       "<style scoped>\n",
       "    .dataframe tbody tr th:only-of-type {\n",
       "        vertical-align: middle;\n",
       "    }\n",
       "\n",
       "    .dataframe tbody tr th {\n",
       "        vertical-align: top;\n",
       "    }\n",
       "\n",
       "    .dataframe thead th {\n",
       "        text-align: right;\n",
       "    }\n",
       "</style>\n",
       "<table border=\"1\" class=\"dataframe\">\n",
       "  <thead>\n",
       "    <tr style=\"text-align: right;\">\n",
       "      <th></th>\n",
       "      <th>Loyalty Number</th>\n",
       "      <th>Year</th>\n",
       "      <th>Month</th>\n",
       "      <th>Flights Booked</th>\n",
       "      <th>Flights with Companions</th>\n",
       "      <th>Total Flights</th>\n",
       "      <th>Distance</th>\n",
       "      <th>Points Accumulated</th>\n",
       "      <th>Points Redeemed</th>\n",
       "      <th>Dollar Cost Points Redeemed</th>\n",
       "      <th>Country</th>\n",
       "      <th>Province</th>\n",
       "      <th>City</th>\n",
       "      <th>Postal Code</th>\n",
       "      <th>Gender</th>\n",
       "      <th>Education</th>\n",
       "      <th>Salary</th>\n",
       "      <th>Marital Status</th>\n",
       "      <th>Loyalty Card</th>\n",
       "      <th>CLV</th>\n",
       "      <th>Enrollment Type</th>\n",
       "      <th>Enrollment Year</th>\n",
       "      <th>Enrollment Month</th>\n",
       "      <th>Cancellation Year</th>\n",
       "      <th>Cancellation Month</th>\n",
       "    </tr>\n",
       "  </thead>\n",
       "  <tbody>\n",
       "    <tr>\n",
       "      <th>0</th>\n",
       "      <td>100018</td>\n",
       "      <td>2017</td>\n",
       "      <td>1</td>\n",
       "      <td>3</td>\n",
       "      <td>0</td>\n",
       "      <td>3</td>\n",
       "      <td>1521</td>\n",
       "      <td>152.0</td>\n",
       "      <td>0</td>\n",
       "      <td>0</td>\n",
       "      <td>Canada</td>\n",
       "      <td>Alberta</td>\n",
       "      <td>Edmonton</td>\n",
       "      <td>T9G 1W3</td>\n",
       "      <td>Female</td>\n",
       "      <td>Bachelor</td>\n",
       "      <td>92552.0</td>\n",
       "      <td>Married</td>\n",
       "      <td>Aurora</td>\n",
       "      <td>7919.20</td>\n",
       "      <td>Standard</td>\n",
       "      <td>2016</td>\n",
       "      <td>8</td>\n",
       "      <td>0</td>\n",
       "      <td>0</td>\n",
       "    </tr>\n",
       "    <tr>\n",
       "      <th>1</th>\n",
       "      <td>100102</td>\n",
       "      <td>2017</td>\n",
       "      <td>1</td>\n",
       "      <td>10</td>\n",
       "      <td>4</td>\n",
       "      <td>14</td>\n",
       "      <td>2030</td>\n",
       "      <td>203.0</td>\n",
       "      <td>0</td>\n",
       "      <td>0</td>\n",
       "      <td>Canada</td>\n",
       "      <td>Ontario</td>\n",
       "      <td>Toronto</td>\n",
       "      <td>M1R 4K3</td>\n",
       "      <td>Male</td>\n",
       "      <td>College</td>\n",
       "      <td>73455.0</td>\n",
       "      <td>Single</td>\n",
       "      <td>Nova</td>\n",
       "      <td>2887.74</td>\n",
       "      <td>Standard</td>\n",
       "      <td>2013</td>\n",
       "      <td>3</td>\n",
       "      <td>0</td>\n",
       "      <td>0</td>\n",
       "    </tr>\n",
       "    <tr>\n",
       "      <th>2</th>\n",
       "      <td>100140</td>\n",
       "      <td>2017</td>\n",
       "      <td>1</td>\n",
       "      <td>6</td>\n",
       "      <td>0</td>\n",
       "      <td>6</td>\n",
       "      <td>1200</td>\n",
       "      <td>120.0</td>\n",
       "      <td>0</td>\n",
       "      <td>0</td>\n",
       "      <td>Canada</td>\n",
       "      <td>British Columbia</td>\n",
       "      <td>Dawson Creek</td>\n",
       "      <td>U5I 4F1</td>\n",
       "      <td>Female</td>\n",
       "      <td>College</td>\n",
       "      <td>73455.0</td>\n",
       "      <td>Divorced</td>\n",
       "      <td>Nova</td>\n",
       "      <td>2838.07</td>\n",
       "      <td>Standard</td>\n",
       "      <td>2016</td>\n",
       "      <td>7</td>\n",
       "      <td>0</td>\n",
       "      <td>0</td>\n",
       "    </tr>\n",
       "    <tr>\n",
       "      <th>3</th>\n",
       "      <td>100214</td>\n",
       "      <td>2017</td>\n",
       "      <td>1</td>\n",
       "      <td>0</td>\n",
       "      <td>0</td>\n",
       "      <td>0</td>\n",
       "      <td>0</td>\n",
       "      <td>0.0</td>\n",
       "      <td>0</td>\n",
       "      <td>0</td>\n",
       "      <td>Canada</td>\n",
       "      <td>British Columbia</td>\n",
       "      <td>Vancouver</td>\n",
       "      <td>V5R 1W3</td>\n",
       "      <td>Male</td>\n",
       "      <td>Bachelor</td>\n",
       "      <td>63253.0</td>\n",
       "      <td>Married</td>\n",
       "      <td>Star</td>\n",
       "      <td>4170.57</td>\n",
       "      <td>Standard</td>\n",
       "      <td>2015</td>\n",
       "      <td>8</td>\n",
       "      <td>0</td>\n",
       "      <td>0</td>\n",
       "    </tr>\n",
       "    <tr>\n",
       "      <th>4</th>\n",
       "      <td>100272</td>\n",
       "      <td>2017</td>\n",
       "      <td>1</td>\n",
       "      <td>0</td>\n",
       "      <td>0</td>\n",
       "      <td>0</td>\n",
       "      <td>0</td>\n",
       "      <td>0.0</td>\n",
       "      <td>0</td>\n",
       "      <td>0</td>\n",
       "      <td>Canada</td>\n",
       "      <td>Ontario</td>\n",
       "      <td>Toronto</td>\n",
       "      <td>P1L 8X8</td>\n",
       "      <td>Female</td>\n",
       "      <td>Bachelor</td>\n",
       "      <td>91163.0</td>\n",
       "      <td>Divorced</td>\n",
       "      <td>Star</td>\n",
       "      <td>6622.05</td>\n",
       "      <td>Standard</td>\n",
       "      <td>2014</td>\n",
       "      <td>1</td>\n",
       "      <td>0</td>\n",
       "      <td>0</td>\n",
       "    </tr>\n",
       "  </tbody>\n",
       "</table>\n",
       "</div>"
      ],
      "text/plain": [
       "   Loyalty Number  Year  Month  Flights Booked  Flights with Companions  \\\n",
       "0          100018  2017      1               3                        0   \n",
       "1          100102  2017      1              10                        4   \n",
       "2          100140  2017      1               6                        0   \n",
       "3          100214  2017      1               0                        0   \n",
       "4          100272  2017      1               0                        0   \n",
       "\n",
       "   Total Flights  Distance  Points Accumulated  Points Redeemed  \\\n",
       "0              3      1521               152.0                0   \n",
       "1             14      2030               203.0                0   \n",
       "2              6      1200               120.0                0   \n",
       "3              0         0                 0.0                0   \n",
       "4              0         0                 0.0                0   \n",
       "\n",
       "   Dollar Cost Points Redeemed Country          Province          City  \\\n",
       "0                            0  Canada           Alberta      Edmonton   \n",
       "1                            0  Canada           Ontario       Toronto   \n",
       "2                            0  Canada  British Columbia  Dawson Creek   \n",
       "3                            0  Canada  British Columbia     Vancouver   \n",
       "4                            0  Canada           Ontario       Toronto   \n",
       "\n",
       "  Postal Code  Gender Education   Salary Marital Status Loyalty Card      CLV  \\\n",
       "0     T9G 1W3  Female  Bachelor  92552.0        Married       Aurora  7919.20   \n",
       "1     M1R 4K3    Male   College  73455.0         Single         Nova  2887.74   \n",
       "2     U5I 4F1  Female   College  73455.0       Divorced         Nova  2838.07   \n",
       "3     V5R 1W3    Male  Bachelor  63253.0        Married         Star  4170.57   \n",
       "4     P1L 8X8  Female  Bachelor  91163.0       Divorced         Star  6622.05   \n",
       "\n",
       "  Enrollment Type  Enrollment Year  Enrollment Month  Cancellation Year  \\\n",
       "0        Standard             2016                 8                  0   \n",
       "1        Standard             2013                 3                  0   \n",
       "2        Standard             2016                 7                  0   \n",
       "3        Standard             2015                 8                  0   \n",
       "4        Standard             2014                 1                  0   \n",
       "\n",
       "   Cancellation Month  \n",
       "0                   0  \n",
       "1                   0  \n",
       "2                   0  \n",
       "3                   0  \n",
       "4                   0  "
      ]
     },
     "execution_count": 99,
     "metadata": {},
     "output_type": "execute_result"
    }
   ],
   "source": [
    "## Unimos todos los datos en un único df para trabajar con el a partir de ahora, elijo hacer merge porque tienen columna en común: \"loyalty_number\" por lo que tiene sentido agrupar los datos usando esa referencia\n",
    "\n",
    "df_merge = df_vuelos_sin_duplicados.merge(df_fidelidad_marca, left_on = 'Loyalty Number', right_on = 'Loyalty Number')\n",
    "df_merge.head(5)"
   ]
  },
  {
   "cell_type": "code",
   "execution_count": 100,
   "metadata": {},
   "outputs": [
    {
     "name": "stdout",
     "output_type": "stream",
     "text": [
      " El total de duplicados es: 0\n"
     ]
    }
   ],
   "source": [
    "# Compruebo los duplicados tras hacer la unión\n",
    "\n",
    "print( f' El total de duplicados es: {df_merge.duplicated().sum()}')"
   ]
  },
  {
   "cell_type": "code",
   "execution_count": 101,
   "metadata": {},
   "outputs": [
    {
     "data": {
      "text/plain": [
       "Loyalty Number                 0\n",
       "Year                           0\n",
       "Month                          0\n",
       "Flights Booked                 0\n",
       "Flights with Companions        0\n",
       "Total Flights                  0\n",
       "Distance                       0\n",
       "Points Accumulated             0\n",
       "Points Redeemed                0\n",
       "Dollar Cost Points Redeemed    0\n",
       "Country                        0\n",
       "Province                       0\n",
       "City                           0\n",
       "Postal Code                    0\n",
       "Gender                         0\n",
       "Education                      0\n",
       "Salary                         0\n",
       "Marital Status                 0\n",
       "Loyalty Card                   0\n",
       "CLV                            0\n",
       "Enrollment Type                0\n",
       "Enrollment Year                0\n",
       "Enrollment Month               0\n",
       "Cancellation Year              0\n",
       "Cancellation Month             0\n",
       "dtype: int64"
      ]
     },
     "execution_count": 101,
     "metadata": {},
     "output_type": "execute_result"
    }
   ],
   "source": [
    "df_merge.isnull().sum()"
   ]
  },
  {
   "cell_type": "code",
   "execution_count": 102,
   "metadata": {},
   "outputs": [],
   "source": [
    "# Guardamos el CSV con los cambios aplicados\n",
    "\n",
    "df_merge.to_csv('df_merge.csv', index=False)\n"
   ]
  },
  {
   "cell_type": "markdown",
   "metadata": {},
   "source": [
    "### Fase 2: Visualización"
   ]
  },
  {
   "cell_type": "markdown",
   "metadata": {},
   "source": [
    "### Fase 3: Evaluación de Diferencias en Reservas de Vuelos por Nivel Educativo"
   ]
  },
  {
   "cell_type": "code",
   "execution_count": null,
   "metadata": {},
   "outputs": [],
   "source": [
    "# Por lo tanto, usaremos un inner merge , ya que no esperamos valores nulos y mantendremos los valores duplicados en 'loyalty_number' en el primer df, \n",
    "# ya que son importantes para nuestro análisis porque cada uno nos está aportando los datos de vuelos de un mes y año diferente."
   ]
  },
  {
   "cell_type": "code",
   "execution_count": null,
   "metadata": {},
   "outputs": [],
   "source": [
    "   # Rellenamos los valores nulos de las columnas 'cancellation_year' y 'cancellation_month' con 0\n",
    "    print(\"Rellenamos los valores nulos de las columnas 'cancellation_year' y 'cancellation_month' con 0\") \n",
    "    customer_data['cancellation_year'] = customer_data['cancellation_year'].fillna(0) \n",
    "    customer_data['cancellation_month'] = customer_data['cancellation_month'].fillna(0)"
   ]
  }
 ],
 "metadata": {
  "kernelspec": {
   "display_name": "base",
   "language": "python",
   "name": "python3"
  },
  "language_info": {
   "codemirror_mode": {
    "name": "ipython",
    "version": 3
   },
   "file_extension": ".py",
   "mimetype": "text/x-python",
   "name": "python",
   "nbconvert_exporter": "python",
   "pygments_lexer": "ipython3",
   "version": "3.12.4"
  }
 },
 "nbformat": 4,
 "nbformat_minor": 2
}
